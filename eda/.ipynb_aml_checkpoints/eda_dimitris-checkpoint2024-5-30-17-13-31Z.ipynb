{
  "cells": [
    {
      "cell_type": "code",
      "source": [
        "import asyncio\n",
        "import aiohttp\n",
        "import ssl\n",
        "import certifi\n",
        "import pandas as pd"
      ],
      "outputs": [],
      "execution_count": 6,
      "metadata": {
        "jupyter": {
          "source_hidden": false,
          "outputs_hidden": false
        },
        "nteract": {
          "transient": {
            "deleting": false
          }
        },
        "gather": {
          "logged": 1719766760587
        }
      }
    },
    {
      "cell_type": "code",
      "source": [
        "# Dummy data for job descriptions\n",
        "job_descriptions = [\n",
        "    'Design and develop software applications using Python and Django framework.',\n",
        "    'Apply machine learning algorithms to analyze and interpret data sets.',\n",
        "    'Lead a team of sales executives to achieve quarterly revenue targets.',\n",
        "    'Develop and execute marketing campaigns across digital platforms.',\n",
        "    'Provide timely and accurate support to customers via phone and email.',\n",
        "    'Define product roadmap and prioritize features based on market research.',\n",
        "    'Conduct financial analysis, forecasting, and reporting for business decisions.',\n",
        "    'Coordinate recruitment processes and support HR functions.',\n",
        "    'Manage daily operations and ensure efficient workflow within the department.',\n",
        "    'Create visual concepts using graphic design software and tools.'\n",
        "]\n",
        "\n",
        "# Create DataFrame with job descriptions\n",
        "df = pd.DataFrame(job_descriptions, columns=['Job Description'])\n",
        "\n",
        "# Display the DataFrame\n",
        "print(df)"
      ],
      "outputs": [
        {
          "output_type": "stream",
          "name": "stdout",
          "text": "                                     Job Description\n0  Design and develop software applications using...\n1  Apply machine learning algorithms to analyze a...\n2  Lead a team of sales executives to achieve qua...\n3  Develop and execute marketing campaigns across...\n4  Provide timely and accurate support to custome...\n5  Define product roadmap and prioritize features...\n6  Conduct financial analysis, forecasting, and r...\n7  Coordinate recruitment processes and support H...\n8  Manage daily operations and ensure efficient w...\n9  Create visual concepts using graphic design so...\n"
        }
      ],
      "execution_count": 2,
      "metadata": {
        "jupyter": {
          "source_hidden": false,
          "outputs_hidden": false
        },
        "nteract": {
          "transient": {
            "deleting": false
          }
        },
        "gather": {
          "logged": 1719766674938
        }
      }
    },
    {
      "cell_type": "code",
      "source": [
        "# Settings\n",
        "MODEL = \"gpt-3.5-turbo\"\n",
        "OPENAI_API_KEY = \"sk-proj-995jZdwACTnamR0niFEpT3BlbkFJfEr2FAFXdeG9QCJyzNJY\"  # NOTE: replace with your secret key"
      ],
      "outputs": [],
      "execution_count": 17,
      "metadata": {
        "jupyter": {
          "source_hidden": false,
          "outputs_hidden": false
        },
        "nteract": {
          "transient": {
            "deleting": false
          }
        },
        "gather": {
          "logged": 1719767589217
        }
      }
    },
    {
      "cell_type": "code",
      "source": [
        "import requests\n",
        "\n",
        "headers = {\n",
        "    \"Content-Type\": \"application/json\",\n",
        "    \"Authorization\": f\"Bearer {OPENAI_API_KEY}\"\n",
        "}"
      ],
      "outputs": [],
      "execution_count": 18,
      "metadata": {
        "jupyter": {
          "source_hidden": false,
          "outputs_hidden": false
        },
        "nteract": {
          "transient": {
            "deleting": false
          }
        },
        "gather": {
          "logged": 1719767590570
        }
      }
    },
    {
      "cell_type": "code",
      "source": [
        "response_json = requests.post(\"https://api.openai.com/v1/chat/completions\", headers=headers, json={\n",
        "    \"model\": MODEL,\n",
        "    \"messages\": [{\"role\": \"user\", \"content\": \"ping\"}],\n",
        "    \"temperature\": 0\n",
        "}).json()"
      ],
      "outputs": [],
      "execution_count": 14,
      "metadata": {
        "jupyter": {
          "source_hidden": false,
          "outputs_hidden": false
        },
        "nteract": {
          "transient": {
            "deleting": false
          }
        },
        "gather": {
          "logged": 1719767029702
        }
      }
    },
    {
      "cell_type": "code",
      "source": [
        "response_json"
      ],
      "outputs": [
        {
          "output_type": "execute_result",
          "execution_count": 19,
          "data": {
            "text/plain": "{'error': {'message': 'You exceeded your current quota, please check your plan and billing details. For more information on this error, read the docs: https://platform.openai.com/docs/guides/error-codes/api-errors.',\n  'type': 'insufficient_quota',\n  'param': None,\n  'code': 'insufficient_quota'}}"
          },
          "metadata": {}
        }
      ],
      "execution_count": 19,
      "metadata": {
        "jupyter": {
          "source_hidden": false,
          "outputs_hidden": false
        },
        "nteract": {
          "transient": {
            "deleting": false
          }
        },
        "gather": {
          "logged": 1719767594453
        }
      }
    },
    {
      "cell_type": "code",
      "source": [
        "print(response_json[\"choices\"][0][\"message\"][\"content\"])"
      ],
      "outputs": [
        {
          "output_type": "error",
          "ename": "KeyError",
          "evalue": "'choices'",
          "traceback": [
            "\u001b[0;31m---------------------------------------------------------------------------\u001b[0m",
            "\u001b[0;31mKeyError\u001b[0m                                  Traceback (most recent call last)",
            "Cell \u001b[0;32mIn[15], line 1\u001b[0m\n\u001b[0;32m----> 1\u001b[0m \u001b[38;5;28mprint\u001b[39m(\u001b[43mresponse_json\u001b[49m\u001b[43m[\u001b[49m\u001b[38;5;124;43m\"\u001b[39;49m\u001b[38;5;124;43mchoices\u001b[39;49m\u001b[38;5;124;43m\"\u001b[39;49m\u001b[43m]\u001b[49m[\u001b[38;5;241m0\u001b[39m][\u001b[38;5;124m\"\u001b[39m\u001b[38;5;124mmessage\u001b[39m\u001b[38;5;124m\"\u001b[39m][\u001b[38;5;124m\"\u001b[39m\u001b[38;5;124mcontent\u001b[39m\u001b[38;5;124m\"\u001b[39m])\n",
            "\u001b[0;31mKeyError\u001b[0m: 'choices'"
          ]
        }
      ],
      "execution_count": 15,
      "metadata": {
        "jupyter": {
          "source_hidden": false,
          "outputs_hidden": false
        },
        "nteract": {
          "transient": {
            "deleting": false
          }
        },
        "gather": {
          "logged": 1719767033756
        }
      }
    }
  ],
  "metadata": {
    "kernelspec": {
      "name": "python3",
      "language": "python",
      "display_name": "Python 3 (ipykernel)"
    },
    "language_info": {
      "name": "python",
      "version": "3.9.18",
      "mimetype": "text/x-python",
      "codemirror_mode": {
        "name": "ipython",
        "version": 3
      },
      "pygments_lexer": "ipython3",
      "nbconvert_exporter": "python",
      "file_extension": ".py"
    },
    "microsoft": {
      "ms_spell_check": {
        "ms_spell_check_language": "en"
      },
      "host": {
        "AzureML": {
          "notebookHasBeenCompleted": true
        }
      }
    },
    "kernel_info": {
      "name": "python3"
    },
    "nteract": {
      "version": "nteract-front-end@1.0.0"
    }
  },
  "nbformat": 4,
  "nbformat_minor": 2
}