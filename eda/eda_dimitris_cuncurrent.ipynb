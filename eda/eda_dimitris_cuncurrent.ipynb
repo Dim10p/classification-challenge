{
  "cells": [
    {
      "cell_type": "markdown",
      "source": [
        "# First attempt for concurrent API calls"
      ],
      "metadata": {
        "nteract": {
          "transient": {
            "deleting": false
          }
        }
      }
    },
    {
      "cell_type": "code",
      "source": [
        "# Import packages\n",
        "import asyncio\n",
        "import aiohttp\n",
        "import ssl\n",
        "import certifi\n",
        "import pandas as pd\n",
        "import json\n",
        "import tiktoken\n",
        "import requests\n",
        "import matplotlib.pyplot as plt"
      ],
      "outputs": [],
      "execution_count": 3,
      "metadata": {
        "gather": {
          "logged": 1719854700986
        }
      }
    },
    {
      "cell_type": "code",
      "source": [
        "# Read data (job advertisments)\n",
        "df = pd.read_csv(f\"{os.getcwd()}/wi_dataset.csv\",\n",
        "                 index_col=None,\n",
        "                 header=0,\n",
        "                 engine='python',\n",
        "                 encoding='utf-8')"
      ],
      "outputs": [],
      "execution_count": 4,
      "metadata": {
        "jupyter": {
          "source_hidden": false,
          "outputs_hidden": false
        },
        "nteract": {
          "transient": {
            "deleting": false
          }
        },
        "gather": {
          "logged": 1719854704999
        }
      }
    },
    {
      "cell_type": "code",
      "source": [
        "# Read taxonomy\n",
        "tax = pd.read_excel(\"ISCO-08 EN Structure and definitions.xlsx\")"
      ],
      "outputs": [],
      "execution_count": 5,
      "metadata": {
        "jupyter": {
          "source_hidden": false,
          "outputs_hidden": false
        },
        "nteract": {
          "transient": {
            "deleting": false
          }
        },
        "gather": {
          "logged": 1719854705250
        }
      }
    },
    {
      "cell_type": "code",
      "source": [
        "# Clean data a bit to tokenize\n",
        "df = df[df.description.notna()].copy()\n",
        "df.description = df.description.astype(str)"
      ],
      "outputs": [],
      "execution_count": 6,
      "metadata": {
        "jupyter": {
          "source_hidden": false,
          "outputs_hidden": false
        },
        "nteract": {
          "transient": {
            "deleting": false
          }
        },
        "gather": {
          "logged": 1719854705597
        }
      }
    },
    {
      "cell_type": "code",
      "source": [
        "# Count tokens using tiktoken (as ChatGPT does)\n",
        "\n",
        "# Initialize the tokenizer for the GPT-3.5-turbo model\n",
        "tokenizer = tiktoken.encoding_for_model(\"gpt-3.5-turbo\")\n",
        "\n",
        "# Define function to count tokens in a description\n",
        "def count_tokens(description):\n",
        "    tokens = tokenizer.encode(description)\n",
        "    return len(tokens)\n",
        "\n",
        "# Apply the function to the 'description' column\n",
        "df['description_token_count'] = df['description'].apply(count_tokens)"
      ],
      "outputs": [],
      "execution_count": 7,
      "metadata": {
        "jupyter": {
          "source_hidden": false,
          "outputs_hidden": false
        },
        "nteract": {
          "transient": {
            "deleting": false
          }
        },
        "gather": {
          "logged": 1719854751480
        }
      }
    },
    {
      "cell_type": "code",
      "source": [
        "# Get Level 1 taxonomies\n",
        "level_1_titles = \"\\n\".join([f\"{row['ISCO 08 Code']}. {row['Title EN']}\" for idx, row in tax[tax[\"Level\"] == 1].iterrows()])\n",
        "print(level_1_titles)"
      ],
      "outputs": [
        {
          "output_type": "stream",
          "name": "stdout",
          "text": "1. Managers\n2. Professionals\n3. Technicians and Associate Professionals\n4. Clerical Support Workers\n5. Service and Sales Workers\n6. Skilled Agricultural, Forestry and Fishery Workers\n7. Craft and Related Trades Workers\n8. Plant and Machine Operators, and Assemblers\n9. Elementary Occupations\n0. Armed Forces Occupations\n"
        }
      ],
      "execution_count": 8,
      "metadata": {
        "jupyter": {
          "source_hidden": false,
          "outputs_hidden": false
        },
        "nteract": {
          "transient": {
            "deleting": false
          }
        },
        "gather": {
          "logged": 1719854751829
        }
      }
    },
    {
      "cell_type": "code",
      "source": [
        "# Get dataframe sample (n=10)\n",
        "df_sample = df.sample(10)\n",
        "print(df_sample.description)"
      ],
      "outputs": [
        {
          "output_type": "stream",
          "name": "stdout",
          "text": "110111    Oferta pracy Pracuj.pl Wygodniej z aplikacją P...\n109498    Το ξενοδοχείο 5* Fodele Beach & Water Park Hol...\n92354     Humniska, powiat: brzozowski, woj: podkarpacki...\n32505     Voltar à listagem Reportar anúncio Se tem dúvi...\n103477    Descriere Caut bona pe termen lung pentru un b...\n14623     Key solutions växer så det knakar. Vi söker nu...\n18012     Lavoro - Annunci di lavoro - Offerte di lavoro...\n77975     Kunniga och engagerade medarbetare med goda fö...\n35286     Vloeiende kennis Nederlands en Engels (kennis ...\n1018      Το εστιατόριο Dos Hermanos στο κέντρο της Κηφι...\nName: description, dtype: object\n"
        }
      ],
      "execution_count": 9,
      "metadata": {
        "jupyter": {
          "source_hidden": false,
          "outputs_hidden": false
        },
        "nteract": {
          "transient": {
            "deleting": false
          }
        },
        "gather": {
          "logged": 1719854752002
        }
      }
    },
    {
      "cell_type": "code",
      "source": [
        "# Function to create the prompt\n",
        "def create_prompt(desc):\n",
        "    prompt = (\n",
        "        f\"We have the following 10 job types based on the ISCO-08 classification:\\n\"\n",
        "        f\"{level_1_titles}\\n\\n\"\n",
        "        f\"Given the following job description, please classify it into one of the above job types by providing the corresponding number and job type:\\n\\n\"\n",
        "        f\"Job Description: \\\"{desc}\\\"\\n\\n\"\n",
        "        f\"Your answer needs to have strictly this format, and no additional output: '<classnumber>. <jobclass>'\"\n",
        "    )\n",
        "    return prompt\n",
        "\n",
        "# Apply the function to create a new column 'prompt'\n",
        "df_sample['prompt'] = df_sample['description'].apply(create_prompt)"
      ],
      "outputs": [],
      "execution_count": 40,
      "metadata": {
        "jupyter": {
          "source_hidden": false,
          "outputs_hidden": false
        },
        "nteract": {
          "transient": {
            "deleting": false
          }
        },
        "gather": {
          "logged": 1719855256595
        }
      }
    },
    {
      "cell_type": "code",
      "source": [
        "# Check\n",
        "print(df_sample['prompt'].iloc[0])"
      ],
      "outputs": [
        {
          "output_type": "stream",
          "name": "stdout",
          "text": "We have the following 10 job types based on the ISCO-08 classification:\n1. Managers\n2. Professionals\n3. Technicians and Associate Professionals\n4. Clerical Support Workers\n5. Service and Sales Workers\n6. Skilled Agricultural, Forestry and Fishery Workers\n7. Craft and Related Trades Workers\n8. Plant and Machine Operators, and Assemblers\n9. Elementary Occupations\n0. Armed Forces Occupations\n\nGiven the following job description, please classify it into one of the above job types by providing the corresponding number and job type:\n\nJob Description: \"Oferta pracy Pracuj.pl Wygodniej z aplikacją Pracuj.pl Przeglądaj oferty i łatwo aplikuj Oferty pracy Porady Oferty pracy IT Profile pracodawców Kreator CV Zarobki Dla firm Pracuj.pl Zaloguj się Załóż konto Dla firm Str. główna Szukaj ofert Zapisane Konto Praca Warszawa Radom Płock Siedlce Pruszków Ostrołęka Kraków Łódź Wrocław IT - Administracja IT - Rozwój oprogramowania Administrowanie systemami Architektura Programowanie Aplikuj Aplikuj Zapisz Drukuj Podziel się Cloud Engineer PKO Bank Polski SAO firmie Warszawa Warszawa, mazowieckie Ważna jeszcze miesiąc do: 10 paź 2021 umowa o pracę pełny etat specjalista (Mid / Regular) Twój zakres obowiązków projektujesz i wdrażasz złożone rozwiązania migracji do chmury publicznej i prywatnej, współpracujesz z zespołami rozwijającymi aplikacje i systemy Banku w celu opracowania planu migracji i zapewnienia spełnienia wymagań funkcjonalności biznesowej i SLA, uczestniczysz w weryfikacji wykonalności technicznej i opcji rozwiązania pod kątem wymagań, uczestniczysz w dyskusjach architektonicznych i ćwiczeniach projektowych w celu budowania i automatyzacji migracji, wspierasz w opracowaniu planu testów i przypadków testowych w celu wykazania gotowości aplikacji/bazy danych po migracji, wspierasz w opracowaniu standardów usług chmurowych jak i ich implementacji w aplikacjach i projektach. Nasze wymagania masz wiedzę w zakresie środowiska GCP/Azure i podstawowych usług, posiadasz doświadczenie w pracy z platformą do orkiestracji kontenerów (Kubernetes/OpenShift), nie są Ci obce zagadnienia z zakresu sieci LAN/WAN, urządzeń sieciowych, Firewall, serwerów proxy i Load Balancerów, popularnych protokołów sieciowych: HTTP(s), DNS, SSH, TCP/IP, usług sieciowych REST, SOAP, masz praktyczne doświadczenie w pracy z Jenkins, CI/CD, Git, Data storage, język angielski znasz w stopniu umożliwiającym swobodne posługiwanie się dokumentacją techniczną. Mile widziane znajomość obszaru infrastruktury i wirtualizacji, wiedza i doświadczenie w zakresie InfrastructureAsCode, Terraform, HashiCorp Vault, HashiCorp Packer, doświadczenie w projektowaniu infrastruktury, migracji systemów z wykorzystaniem usług chmurowych, szybkie pozyskiwanie i przyswajanie wiedzy oraz analiza działań skomplikowanych systemów informatycznych, znajomość praktyki związanej ze skalowalnością i wysoką wydajnością systemów, znajomość procesów IT w bankowości. Benefity prywatna opieka medyczna ubezpieczenie na życie zniżki na firmowe produkty i usługi spotkania integracyjne program emerytalny preferencyjne pożyczki dodatkowe świadczenia socjalne dofinansowanie usług turystycznych dofinansowanie wypoczynku program rekomendacji pracowników inicjatywy dobroczynne Tak się u nas pracuje Zobacz galerię · 8 Tak się u nas pracuje + 2 Twórz z nami PKO Bank Przyszłości. Bądź częścią transformacji cyfrowej i przenieś z nami bank w chmurę. Budujemy systemy w Google Cloud Platform, Azure oraz Chmurze Krajowej. Zapewniamy szkolenia, certyfikacje i wyzwania z wykorzystaniem najnowocześniejszych technologii. Dołącz do najlepszego zespołu specjalistów chmurowych. Aplikuj Zapisz Drukuj Podziel się Sprawdź podobne oferty Administrator IT GTC S.A. Warszawa, Włochy Aplikuj szybko Specjalista IT ds. wsparcia informatycznego Totalizator Sportowy Warszawa, Praga-Północ Administrator B2B TRADE sp. z o.o. Piaseczno Aplikuj szybko IT Systems Administrator BNP Paribas Bank Polska S.A. Warszawa, Wola DevOps ING Bank Śląski S.A. mazowieckie Starszy Inżynier SecOps NASK Warszawa, Śródmieście Pobierz aplikację Dla kandydatów Pomoc Kalkulator wynagrodzeń Pracuj w Grupie Pracuj Robota.ua Urzędy pracy Festiwal Pracy JOBICON The:Protocol Więcej Dla firm Dodaj ogłoszenie Konto pracodawcy Pomoc dla firm System rekrutacyjny eRecruiter Grupa Pracuj O nas Centrum Prasowe Reklama Partnerzy Archiwum ofert Więcej Informacje Regulamin Polityka prywatności Polityka plików cookies Nasz profil na Facebooku Nasz kanał na Youtube Nasz profil na Instagramie © Grupa Pracuj S.A.\"\n\nYour answer needs to have this format strictly: <number>. <jobclass>\n"
        }
      ],
      "execution_count": 48,
      "metadata": {
        "jupyter": {
          "source_hidden": false,
          "outputs_hidden": false
        },
        "nteract": {
          "transient": {
            "deleting": false
          }
        },
        "gather": {
          "logged": 1719855715237
        }
      }
    },
    {
      "cell_type": "code",
      "source": [
        "import os\n",
        "import openai\n",
        "import pandas as pd\n",
        "import concurrent.futures\n",
        "from dotenv import load_dotenv\n",
        "\n",
        "# Load environment variables from .env file\n",
        "load_dotenv()\n",
        "\n",
        "# Set your OpenAI API key\n",
        "OPENAI_API_KEY = os.environ(\"OPENAI_API_KEY\")\n",
        "\n",
        "if not OPENAI_API_KEY:\n",
        "    raise ValueError(\"OpenAI API key not found. Make sure it's defined in your .env file.\")\n",
        "\n",
        "openai.api_key = OPENAI_API_KEY\n"
      ],
      "outputs": [],
      "execution_count": 41,
      "metadata": {
        "jupyter": {
          "source_hidden": false,
          "outputs_hidden": false
        },
        "nteract": {
          "transient": {
            "deleting": false
          }
        },
        "gather": {
          "logged": 1719855262229
        }
      }
    },
    {
      "cell_type": "code",
      "source": [
        "# Function to get job class from OpenAI\n",
        "def get_job_class(prompt):\n",
        "    try:\n",
        "        response = openai.ChatCompletion.create(\n",
        "            model=\"gpt-3.5-turbo\",\n",
        "            messages=[\n",
        "                {\"role\": \"system\", \"content\": \"You are a helpful assistant.\"},\n",
        "                {\"role\": \"user\", \"content\": prompt}\n",
        "            ],\n",
        "            temperature=0\n",
        "        )\n",
        "        job_class = response.choices[0].message['content'].strip()\n",
        "        return job_class\n",
        "    except Exception as e:\n",
        "        print(f\"Failed to get response from OpenAI: {e}\")\n",
        "        return None\n",
        "\n",
        "# Function to process a batch of prompts\n",
        "def process_batch(prompts):\n",
        "    return [get_job_class(prompt) for prompt in prompts]"
      ],
      "outputs": [],
      "execution_count": 42,
      "metadata": {
        "jupyter": {
          "source_hidden": false,
          "outputs_hidden": false
        },
        "nteract": {
          "transient": {
            "deleting": false
          }
        },
        "gather": {
          "logged": 1719855263769
        }
      }
    },
    {
      "cell_type": "code",
      "source": [
        "# Set number of workers for concurrent processing\n",
        "num_workers = 5\n",
        "\n",
        "# Get prompts\n",
        "prompts = df_sample['prompt'].tolist()\n",
        "\n",
        "# Splitting the prompts into batches\n",
        "chunk_size = len(prompts) // num_workers\n",
        "chunks = [prompts[i:i + chunk_size] for i in range(0, len(prompts), chunk_size)]\n",
        "\n",
        "results = []\n",
        "with concurrent.futures.ThreadPoolExecutor(max_workers=num_workers) as executor:\n",
        "    future_to_chunk = {executor.submit(process_batch, chunk): chunk for chunk in chunks}\n",
        "    for future in concurrent.futures.as_completed(future_to_chunk):\n",
        "        chunk_results = future.result()\n",
        "        results.extend(chunk_results)\n",
        "\n",
        "# Update the DataFrame with the job classifications\n",
        "df_sample['jobclass'] = results"
      ],
      "outputs": [],
      "execution_count": 46,
      "metadata": {
        "jupyter": {
          "source_hidden": false,
          "outputs_hidden": false
        },
        "nteract": {
          "transient": {
            "deleting": false
          }
        },
        "gather": {
          "logged": 1719855303100
        }
      }
    },
    {
      "cell_type": "code",
      "source": [
        "pd.options.display.max_colwidth = 100\n",
        "from IPython.display import display, HTML"
      ],
      "outputs": [],
      "execution_count": 44,
      "metadata": {
        "jupyter": {
          "source_hidden": false,
          "outputs_hidden": false
        },
        "nteract": {
          "transient": {
            "deleting": false
          }
        },
        "gather": {
          "logged": 1719855269003
        }
      }
    },
    {
      "cell_type": "code",
      "source": [
        "display(HTML(df_sample.apply(lambda x: pd.Series({'description': f\"{x['description'][:50]}...\" if len(x['description']) > 50 else x['description'], 'jobclass': x['jobclass']}), axis=1).to_html()))"
      ],
      "outputs": [
        {
          "output_type": "display_data",
          "data": {
            "text/plain": "<IPython.core.display.HTML object>",
            "text/html": "<table border=\"1\" class=\"dataframe\">\n  <thead>\n    <tr style=\"text-align: right;\">\n      <th></th>\n      <th>description</th>\n      <th>jobclass</th>\n    </tr>\n  </thead>\n  <tbody>\n    <tr>\n      <th>110111</th>\n      <td>Oferta pracy Pracuj.pl Wygodniej z aplikacją Pracu...</td>\n      <td>9. Elementary Occupations</td>\n    </tr>\n    <tr>\n      <th>109498</th>\n      <td>Το ξενοδοχείο 5* Fodele Beach &amp; Water Park Holiday...</td>\n      <td>5. Service and Sales Workers</td>\n    </tr>\n    <tr>\n      <th>92354</th>\n      <td>Humniska, powiat: brzozowski, woj: podkarpackie\\nPo...</td>\n      <td>This job description falls under job type 4. Clerical Support Workers.</td>\n    </tr>\n    <tr>\n      <th>32505</th>\n      <td>Voltar à listagem Reportar anúncio Se tem dúvidas ...</td>\n      <td>3. Technicians and Associate Professionals</td>\n    </tr>\n    <tr>\n      <th>103477</th>\n      <td>Descriere Caut bona pe termen lung pentru un baiet...</td>\n      <td>3. Technicians and Associate Professionals</td>\n    </tr>\n    <tr>\n      <th>14623</th>\n      <td>Key solutions växer så det knakar. Vi söker nu en ...</td>\n      <td>3. Technicians and Associate Professionals</td>\n    </tr>\n    <tr>\n      <th>18012</th>\n      <td>Lavoro - Annunci di lavoro - Offerte di lavoro - M...</td>\n      <td>3. Technicians and Associate Professionals</td>\n    </tr>\n    <tr>\n      <th>77975</th>\n      <td>Kunniga och engagerade medarbetare med goda föruts...</td>\n      <td>2. Professionals</td>\n    </tr>\n    <tr>\n      <th>35286</th>\n      <td>Vloeiende kennis Nederlands en Engels (kennis Fran...</td>\n      <td>4. Clerical Support Workers</td>\n    </tr>\n    <tr>\n      <th>1018</th>\n      <td>Το εστιατόριο Dos Hermanos στο κέντρο της Κηφισιάς...</td>\n      <td>4. Clerical Support Workers</td>\n    </tr>\n  </tbody>\n</table>"
          },
          "metadata": {}
        }
      ],
      "execution_count": 47,
      "metadata": {
        "jupyter": {
          "source_hidden": false,
          "outputs_hidden": false
        },
        "nteract": {
          "transient": {
            "deleting": false
          }
        },
        "gather": {
          "logged": 1719855305832
        }
      }
    },
    {
      "cell_type": "markdown",
      "source": [
        "#"
      ],
      "metadata": {
        "nteract": {
          "transient": {
            "deleting": false
          }
        }
      }
    },
    {
      "cell_type": "markdown",
      "source": [
        "# Conclusions"
      ],
      "metadata": {
        "nteract": {
          "transient": {
            "deleting": false
          }
        }
      }
    },
    {
      "cell_type": "markdown",
      "source": [
        "- Concurrent requests work with openai=0.28\n",
        "- Seems non deterministic as fk\n",
        "- Maybe translate"
      ],
      "metadata": {
        "nteract": {
          "transient": {
            "deleting": false
          }
        }
      }
    },
    {
      "cell_type": "markdown",
      "source": [
        "# With Google API translations"
      ],
      "metadata": {
        "nteract": {
          "transient": {
            "deleting": false
          }
        }
      }
    },
    {
      "cell_type": "code",
      "source": [
        "%pip install -U deep-translator"
      ],
      "outputs": [
        {
          "output_type": "stream",
          "name": "stdout",
          "text": "Collecting deep-translator\n  Downloading deep_translator-1.11.4-py3-none-any.whl.metadata (30 kB)\nCollecting beautifulsoup4<5.0.0,>=4.9.1 (from deep-translator)\n  Downloading beautifulsoup4-4.12.3-py3-none-any.whl.metadata (3.8 kB)\nRequirement already satisfied: requests<3.0.0,>=2.23.0 in /anaconda/envs/azureml_py310_sdkv2/lib/python3.10/site-packages (from deep-translator) (2.32.3)\nCollecting soupsieve>1.2 (from beautifulsoup4<5.0.0,>=4.9.1->deep-translator)\n  Downloading soupsieve-2.5-py3-none-any.whl.metadata (4.7 kB)\nRequirement already satisfied: charset-normalizer<4,>=2 in /anaconda/envs/azureml_py310_sdkv2/lib/python3.10/site-packages (from requests<3.0.0,>=2.23.0->deep-translator) (3.3.2)\nRequirement already satisfied: idna<4,>=2.5 in /anaconda/envs/azureml_py310_sdkv2/lib/python3.10/site-packages (from requests<3.0.0,>=2.23.0->deep-translator) (2.10)\nRequirement already satisfied: urllib3<3,>=1.21.1 in /anaconda/envs/azureml_py310_sdkv2/lib/python3.10/site-packages (from requests<3.0.0,>=2.23.0->deep-translator) (2.2.1)\nRequirement already satisfied: certifi>=2017.4.17 in /anaconda/envs/azureml_py310_sdkv2/lib/python3.10/site-packages (from requests<3.0.0,>=2.23.0->deep-translator) (2024.6.2)\nDownloading deep_translator-1.11.4-py3-none-any.whl (42 kB)\n\u001b[2K   \u001b[90m━━━━━━━━━━━━━━━━━━━━━━━━━━━━━━━━━━━━━━━━\u001b[0m \u001b[32m42.3/42.3 kB\u001b[0m \u001b[31m2.8 MB/s\u001b[0m eta \u001b[36m0:00:00\u001b[0m\n\u001b[?25hDownloading beautifulsoup4-4.12.3-py3-none-any.whl (147 kB)\n\u001b[2K   \u001b[90m━━━━━━━━━━━━━━━━━━━━━━━━━━━━━━━━━━━━━━━━\u001b[0m \u001b[32m147.9/147.9 kB\u001b[0m \u001b[31m11.1 MB/s\u001b[0m eta \u001b[36m0:00:00\u001b[0m\n\u001b[?25hDownloading soupsieve-2.5-py3-none-any.whl (36 kB)\nInstalling collected packages: soupsieve, beautifulsoup4, deep-translator\nSuccessfully installed beautifulsoup4-4.12.3 deep-translator-1.11.4 soupsieve-2.5\nNote: you may need to restart the kernel to use updated packages.\n"
        }
      ],
      "execution_count": 71,
      "metadata": {
        "jupyter": {
          "source_hidden": false,
          "outputs_hidden": false
        },
        "nteract": {
          "transient": {
            "deleting": false
          }
        }
      }
    },
    {
      "cell_type": "code",
      "source": [
        "from deep_translator import GoogleTranslator\n",
        "\n",
        "def func_t(txt):\n",
        "    return GoogleTranslator(source='auto', target='en').translate(txt) "
      ],
      "outputs": [],
      "execution_count": 76,
      "metadata": {
        "jupyter": {
          "source_hidden": false,
          "outputs_hidden": false
        },
        "nteract": {
          "transient": {
            "deleting": false
          }
        },
        "gather": {
          "logged": 1719856480023
        }
      }
    },
    {
      "cell_type": "code",
      "source": [
        "# Just whatever to test\n",
        "df_sample[\"description_translated\"] = df_sample.description.apply(lambda x: func_t(x))"
      ],
      "outputs": [],
      "execution_count": 78,
      "metadata": {
        "jupyter": {
          "source_hidden": false,
          "outputs_hidden": false
        },
        "nteract": {
          "transient": {
            "deleting": false
          }
        },
        "gather": {
          "logged": 1719856528055
        }
      }
    },
    {
      "cell_type": "code",
      "source": [
        "df_sample[\"description_translated\"]"
      ],
      "outputs": [
        {
          "output_type": "execute_result",
          "execution_count": 79,
          "data": {
            "text/plain": "110111    Job offer Pracuj.pl More convenient with the Pracuj.pl application Browse offers and apply easil...\n109498    The 5* hotel Fodele Beach & Water Park Holiday Resort in Fodele, Heraklion, Crete wishes to hire...\n92354     Humniska, Brzozowski district, Podkarpackie province\\nOther office staff\\nOTHER OFFICE SERVICE E...\n32505     Return to list Report ad If you have doubts about the veracity of this ad, tell us the reason fo...\n103477    Description I am looking for a long-term nanny for a 1.3-month-old boy. Location: Iulius Mall ar...\n14623     Key solutions is growing like crazy. We are now looking for a new field salesperson who loves to...\n18012     Work - Job adverts - Job offers - CV Market To continue browsing our portal, contact +370 5 219 ...\n77975     Knowledgeable and committed employees with good conditions are one of the most important success...\n35286     Fluent knowledge of Dutch and English (knowledge of French is a strong asset!) Analytical and pr...\n1018      The Dos Hermanos restaurant in the center of Kifissia is looking for responsible people to be in...\nName: description_translated, dtype: object"
          },
          "metadata": {}
        }
      ],
      "execution_count": 79,
      "metadata": {
        "jupyter": {
          "source_hidden": false,
          "outputs_hidden": false
        },
        "nteract": {
          "transient": {
            "deleting": false
          }
        },
        "gather": {
          "logged": 1719856528312
        }
      }
    },
    {
      "cell_type": "code",
      "source": [
        "df_sample['prompt'] = df_sample['description_translated'].apply(create_prompt)"
      ],
      "outputs": [],
      "execution_count": 86,
      "metadata": {
        "jupyter": {
          "source_hidden": false,
          "outputs_hidden": false
        },
        "nteract": {
          "transient": {
            "deleting": false
          }
        },
        "gather": {
          "logged": 1719856711262
        }
      }
    },
    {
      "cell_type": "code",
      "source": [
        "# Set number of workers for concurrent processing\n",
        "num_workers = 5\n",
        "\n",
        "# Get prompts\n",
        "prompts = df_sample['prompt'].tolist()\n",
        "\n",
        "# Splitting the prompts into batches\n",
        "chunk_size = len(prompts) // num_workers\n",
        "chunks = [prompts[i:i + chunk_size] for i in range(0, len(prompts), chunk_size)]\n",
        "\n",
        "results = []\n",
        "with concurrent.futures.ThreadPoolExecutor(max_workers=num_workers) as executor:\n",
        "    future_to_chunk = {executor.submit(process_batch, chunk): chunk for chunk in chunks}\n",
        "    for future in concurrent.futures.as_completed(future_to_chunk):\n",
        "        chunk_results = future.result()\n",
        "        results.extend(chunk_results)\n",
        "\n",
        "# Update the DataFrame with the job classifications\n",
        "df_sample['jobclass'] = results"
      ],
      "outputs": [],
      "execution_count": 87,
      "metadata": {
        "jupyter": {
          "source_hidden": false,
          "outputs_hidden": false
        },
        "nteract": {
          "transient": {
            "deleting": false
          }
        },
        "gather": {
          "logged": 1719856748944
        }
      }
    },
    {
      "cell_type": "code",
      "source": [
        "display(HTML(df_sample.apply(lambda x: pd.Series({'description_translated': f\"{x['description_translated'][:50]}...\" if len(x['description_translated']) > 50 else x['description_translated'], 'jobclass': x['jobclass']}), axis=1).to_html()))"
      ],
      "outputs": [
        {
          "output_type": "display_data",
          "data": {
            "text/plain": "<IPython.core.display.HTML object>",
            "text/html": "<table border=\"1\" class=\"dataframe\">\n  <thead>\n    <tr style=\"text-align: right;\">\n      <th></th>\n      <th>description_translated</th>\n      <th>jobclass</th>\n    </tr>\n  </thead>\n  <tbody>\n    <tr>\n      <th>110111</th>\n      <td>Job offer Pracuj.pl More convenient with the Pracu...</td>\n      <td>3. Technicians and Associate Professionals</td>\n    </tr>\n    <tr>\n      <th>109498</th>\n      <td>The 5* hotel Fodele Beach &amp; Water Park Holiday Res...</td>\n      <td>5. Service and Sales Workers</td>\n    </tr>\n    <tr>\n      <th>92354</th>\n      <td>Humniska, Brzozowski district, Podkarpackie provin...</td>\n      <td>4. Clerical Support Workers</td>\n    </tr>\n    <tr>\n      <th>32505</th>\n      <td>Return to list Report ad If you have doubts about ...</td>\n      <td>3. Technicians and Associate Professionals</td>\n    </tr>\n    <tr>\n      <th>103477</th>\n      <td>Description I am looking for a long-term nanny for...</td>\n      <td>3. Technicians and Associate Professionals</td>\n    </tr>\n    <tr>\n      <th>14623</th>\n      <td>Key solutions is growing like crazy. We are now lo...</td>\n      <td>4. Clerical Support Workers</td>\n    </tr>\n    <tr>\n      <th>18012</th>\n      <td>Work - Job adverts - Job offers - CV Market To con...</td>\n      <td>5. Service and Sales Workers</td>\n    </tr>\n    <tr>\n      <th>77975</th>\n      <td>Knowledgeable and committed employees with good co...</td>\n      <td>5. Service and Sales Workers</td>\n    </tr>\n    <tr>\n      <th>35286</th>\n      <td>Fluent knowledge of Dutch and English (knowledge o...</td>\n      <td>4. Clerical Support Workers</td>\n    </tr>\n    <tr>\n      <th>1018</th>\n      <td>The Dos Hermanos restaurant in the center of Kifis...</td>\n      <td>2. Professionals</td>\n    </tr>\n  </tbody>\n</table>"
          },
          "metadata": {}
        }
      ],
      "execution_count": 88,
      "metadata": {
        "jupyter": {
          "source_hidden": false,
          "outputs_hidden": false
        },
        "nteract": {
          "transient": {
            "deleting": false
          }
        },
        "gather": {
          "logged": 1719856762903
        }
      }
    },
    {
      "cell_type": "markdown",
      "source": [
        "try again"
      ],
      "metadata": {
        "nteract": {
          "transient": {
            "deleting": false
          }
        }
      }
    },
    {
      "cell_type": "code",
      "source": [
        "# Set number of workers for concurrent processing\n",
        "num_workers = 5\n",
        "\n",
        "# Get prompts\n",
        "prompts = df_sample['prompt'].tolist()\n",
        "\n",
        "# Splitting the prompts into batches\n",
        "chunk_size = len(prompts) // num_workers\n",
        "chunks = [prompts[i:i + chunk_size] for i in range(0, len(prompts), chunk_size)]\n",
        "\n",
        "results = []\n",
        "with concurrent.futures.ThreadPoolExecutor(max_workers=num_workers) as executor:\n",
        "    future_to_chunk = {executor.submit(process_batch, chunk): chunk for chunk in chunks}\n",
        "    for future in concurrent.futures.as_completed(future_to_chunk):\n",
        "        chunk_results = future.result()\n",
        "        results.extend(chunk_results)\n",
        "\n",
        "# Update the DataFrame with the job classifications\n",
        "df_sample['jobclass'] = results"
      ],
      "outputs": [],
      "execution_count": 89,
      "metadata": {
        "jupyter": {
          "source_hidden": false,
          "outputs_hidden": false
        },
        "nteract": {
          "transient": {
            "deleting": false
          }
        },
        "gather": {
          "logged": 1719856770078
        }
      }
    },
    {
      "cell_type": "code",
      "source": [
        "display(HTML(df_sample.apply(lambda x: pd.Series({'description_translated': f\"{x['description_translated'][:50]}...\" if len(x['description_translated']) > 50 else x['description_translated'], 'jobclass': x['jobclass']}), axis=1).to_html()))"
      ],
      "outputs": [
        {
          "output_type": "display_data",
          "data": {
            "text/plain": "<IPython.core.display.HTML object>",
            "text/html": "<table border=\"1\" class=\"dataframe\">\n  <thead>\n    <tr style=\"text-align: right;\">\n      <th></th>\n      <th>description_translated</th>\n      <th>jobclass</th>\n    </tr>\n  </thead>\n  <tbody>\n    <tr>\n      <th>110111</th>\n      <td>Job offer Pracuj.pl More convenient with the Pracu...</td>\n      <td>3. Technicians and Associate Professionals</td>\n    </tr>\n    <tr>\n      <th>109498</th>\n      <td>The 5* hotel Fodele Beach &amp; Water Park Holiday Res...</td>\n      <td>5. Service and Sales Workers</td>\n    </tr>\n    <tr>\n      <th>92354</th>\n      <td>Humniska, Brzozowski district, Podkarpackie provin...</td>\n      <td>4. Clerical Support Workers</td>\n    </tr>\n    <tr>\n      <th>32505</th>\n      <td>Return to list Report ad If you have doubts about ...</td>\n      <td>3. Technicians and Associate Professionals</td>\n    </tr>\n    <tr>\n      <th>103477</th>\n      <td>Description I am looking for a long-term nanny for...</td>\n      <td>4. Clerical Support Workers</td>\n    </tr>\n    <tr>\n      <th>14623</th>\n      <td>Key solutions is growing like crazy. We are now lo...</td>\n      <td>3. Technicians and Associate Professionals</td>\n    </tr>\n    <tr>\n      <th>18012</th>\n      <td>Work - Job adverts - Job offers - CV Market To con...</td>\n      <td>5. Service and Sales Workers</td>\n    </tr>\n    <tr>\n      <th>77975</th>\n      <td>Knowledgeable and committed employees with good co...</td>\n      <td>5. Service and Sales Workers</td>\n    </tr>\n    <tr>\n      <th>35286</th>\n      <td>Fluent knowledge of Dutch and English (knowledge o...</td>\n      <td>3. Technicians and Associate Professionals</td>\n    </tr>\n    <tr>\n      <th>1018</th>\n      <td>The Dos Hermanos restaurant in the center of Kifis...</td>\n      <td>4. Clerical Support Workers</td>\n    </tr>\n  </tbody>\n</table>"
          },
          "metadata": {}
        }
      ],
      "execution_count": 90,
      "metadata": {
        "jupyter": {
          "source_hidden": false,
          "outputs_hidden": false
        },
        "nteract": {
          "transient": {
            "deleting": false
          }
        },
        "gather": {
          "logged": 1719856774297
        }
      }
    },
    {
      "cell_type": "markdown",
      "source": [
        "# SLightly better but still not the same results... Level 1 to Level 4 does not work!!!"
      ],
      "metadata": {
        "nteract": {
          "transient": {
            "deleting": false
          }
        }
      }
    }
  ],
  "metadata": {
    "kernelspec": {
      "name": "python310-sdkv2",
      "language": "python",
      "display_name": "Python 3.10 - SDK v2"
    },
    "language_info": {
      "name": "python",
      "version": "3.10.14",
      "mimetype": "text/x-python",
      "codemirror_mode": {
        "name": "ipython",
        "version": 3
      },
      "pygments_lexer": "ipython3",
      "nbconvert_exporter": "python",
      "file_extension": ".py"
    },
    "microsoft": {
      "ms_spell_check": {
        "ms_spell_check_language": "en"
      },
      "host": {
        "AzureML": {
          "notebookHasBeenCompleted": true
        }
      }
    },
    "kernel_info": {
      "name": "python310-sdkv2"
    },
    "nteract": {
      "version": "nteract-front-end@1.0.0"
    }
  },
  "nbformat": 4,
  "nbformat_minor": 2
}