{
  "cells": [
    {
      "cell_type": "markdown",
      "source": [
        "# Classification Challenge"
      ],
      "metadata": {
        "nteract": {
          "transient": {
            "deleting": false
          }
        }
      }
    },
    {
      "cell_type": "markdown",
      "source": [
        "## 1. Introduction"
      ],
      "metadata": {
        "nteract": {
          "transient": {
            "deleting": false
          }
        }
      }
    },
    {
      "cell_type": "markdown",
      "source": [
        "This is our solution for the Web Intelligence - Classification of Occupations for Online Job Advertisements Challenge, organized by the European Statistics Awards Programme. The primary goal of this challenge is to develop robust and efficient methodologies for automatically classifying job advertisements into predefined occupational categories using the International Standard Classification of Occupations (ISCO) taxonomy.\n",
        "\n",
        "Online job advertisements (OJAs) provide a rich source of data that can be leveraged for various statistical and analytical purposes. These advertisements typically include information such as job titles, descriptions, company details, and requirements. Given the multilingual nature and large volume of the dataset, the challenge involves addressing cross-linguality and ensuring scalability of the solution.\n",
        "\n",
        "In this notebook, we present our approach to tackle this challenge and we detail all the steps taken throughout the process."
      ],
      "metadata": {
        "nteract": {
          "transient": {
            "deleting": false
          }
        }
      }
    },
    {
      "cell_type": "markdown",
      "source": [
        "![image](assets/classification_logo.png)"
      ],
      "metadata": {
        "nteract": {
          "transient": {
            "deleting": false
          }
        }
      }
    },
    {
      "cell_type": "markdown",
      "source": [
        "## 2. Setup Instructions"
      ],
      "metadata": {
        "nteract": {
          "transient": {
            "deleting": false
          }
        }
      }
    },
    {
      "cell_type": "markdown",
      "source": [
        "### 2.1 Setup data directories"
      ],
      "metadata": {
        "nteract": {
          "transient": {
            "deleting": false
          }
        }
      }
    },
    {
      "cell_type": "markdown",
      "source": [
        "Before we begin, it's important to set up the directory structure and place the necessary input data files correctly. Please follow these steps to ensure everything is in place:\n",
        "\n",
        "1. Create a folder named `data` in the root directory of this project.\n",
        "2. Inside the `data` folder, create the following subfolders:\n",
        "   - `raw`\n",
        "   - `interim`\n",
        "   - `embeddings`\n",
        "   - `submission`\n",
        "\n",
        "3. Place the raw data files in the `raw` subfolder. The required raw data files are:\n",
        "   - `ISCO-08 EN Structure and definitions.xlsx`: This file contains the complete  taxonomy and can be downloaded from the [International Labour Organization's website](https://ilostat.ilo.org/methods/concepts-and-definitions/classification-occupation/).\n",
        "   - `wi_dataset.csv`: This file contains the job advertisements dataset provided for the competition.\n",
        "   - `wi_labels.csv`: This file contains the ISCO taxonomy labels provided for the competition."
      ],
      "metadata": {
        "nteract": {
          "transient": {
            "deleting": false
          }
        }
      }
    },
    {
      "cell_type": "markdown",
      "source": [
        "### 2.2 Install packages"
      ],
      "metadata": {
        "nteract": {
          "transient": {
            "deleting": false
          }
        }
      }
    },
    {
      "cell_type": "code",
      "source": [
        "%pip install numpy pandas tqdm pickle-mixin torch pathlib FlagEmbedding peft openpyxl loguru torch accelerate optimum transformers"
      ],
      "outputs": [
        {
          "output_type": "stream",
          "name": "stdout",
          "text": "Requirement already satisfied: numpy in /anaconda/envs/azureml_py310_sdkv2/lib/python3.10/site-packages (1.23.5)\nRequirement already satisfied: pandas in /anaconda/envs/azureml_py310_sdkv2/lib/python3.10/site-packages (2.2.3)\nRequirement already satisfied: tqdm in /anaconda/envs/azureml_py310_sdkv2/lib/python3.10/site-packages (4.66.5)\nRequirement already satisfied: pickle-mixin in /anaconda/envs/azureml_py310_sdkv2/lib/python3.10/site-packages (1.0.2)\nRequirement already satisfied: torch in /anaconda/envs/azureml_py310_sdkv2/lib/python3.10/site-packages (2.4.1)\nRequirement already satisfied: pathlib in /anaconda/envs/azureml_py310_sdkv2/lib/python3.10/site-packages (1.0.1)\nRequirement already satisfied: FlagEmbedding in /anaconda/envs/azureml_py310_sdkv2/lib/python3.10/site-packages (1.2.11)\nRequirement already satisfied: peft in /anaconda/envs/azureml_py310_sdkv2/lib/python3.10/site-packages (0.13.0)\nRequirement already satisfied: openpyxl in /anaconda/envs/azureml_py310_sdkv2/lib/python3.10/site-packages (3.1.5)\nRequirement already satisfied: loguru in /anaconda/envs/azureml_py310_sdkv2/lib/python3.10/site-packages (0.7.2)\nRequirement already satisfied: accelerate in /anaconda/envs/azureml_py310_sdkv2/lib/python3.10/site-packages (0.34.2)\nRequirement already satisfied: optimum in /anaconda/envs/azureml_py310_sdkv2/lib/python3.10/site-packages (1.22.0)\nRequirement already satisfied: transformers in /anaconda/envs/azureml_py310_sdkv2/lib/python3.10/site-packages (4.44.2)\nRequirement already satisfied: python-dateutil>=2.8.2 in /anaconda/envs/azureml_py310_sdkv2/lib/python3.10/site-packages (from pandas) (2.9.0)\nRequirement already satisfied: pytz>=2020.1 in /anaconda/envs/azureml_py310_sdkv2/lib/python3.10/site-packages (from pandas) (2024.2)\nRequirement already satisfied: tzdata>=2022.7 in /anaconda/envs/azureml_py310_sdkv2/lib/python3.10/site-packages (from pandas) (2024.1)\nRequirement already satisfied: filelock in /anaconda/envs/azureml_py310_sdkv2/lib/python3.10/site-packages (from torch) (3.16.1)\nRequirement already satisfied: typing-extensions>=4.8.0 in /anaconda/envs/azureml_py310_sdkv2/lib/python3.10/site-packages (from torch) (4.12.2)\nRequirement already satisfied: sympy in /anaconda/envs/azureml_py310_sdkv2/lib/python3.10/site-packages (from torch) (1.13.3)\nRequirement already satisfied: networkx in /anaconda/envs/azureml_py310_sdkv2/lib/python3.10/site-packages (from torch) (3.3)\nRequirement already satisfied: jinja2 in /anaconda/envs/azureml_py310_sdkv2/lib/python3.10/site-packages (from torch) (3.1.4)\nRequirement already satisfied: fsspec in /anaconda/envs/azureml_py310_sdkv2/lib/python3.10/site-packages (from torch) (2023.10.0)\nRequirement already satisfied: nvidia-cuda-nvrtc-cu12==12.1.105 in /anaconda/envs/azureml_py310_sdkv2/lib/python3.10/site-packages (from torch) (12.1.105)\nRequirement already satisfied: nvidia-cuda-runtime-cu12==12.1.105 in /anaconda/envs/azureml_py310_sdkv2/lib/python3.10/site-packages (from torch) (12.1.105)\nRequirement already satisfied: nvidia-cuda-cupti-cu12==12.1.105 in /anaconda/envs/azureml_py310_sdkv2/lib/python3.10/site-packages (from torch) (12.1.105)\nRequirement already satisfied: nvidia-cudnn-cu12==9.1.0.70 in /anaconda/envs/azureml_py310_sdkv2/lib/python3.10/site-packages (from torch) (9.1.0.70)\nRequirement already satisfied: nvidia-cublas-cu12==12.1.3.1 in /anaconda/envs/azureml_py310_sdkv2/lib/python3.10/site-packages (from torch) (12.1.3.1)\nRequirement already satisfied: nvidia-cufft-cu12==11.0.2.54 in /anaconda/envs/azureml_py310_sdkv2/lib/python3.10/site-packages (from torch) (11.0.2.54)\nRequirement already satisfied: nvidia-curand-cu12==10.3.2.106 in /anaconda/envs/azureml_py310_sdkv2/lib/python3.10/site-packages (from torch) (10.3.2.106)\nRequirement already satisfied: nvidia-cusolver-cu12==11.4.5.107 in /anaconda/envs/azureml_py310_sdkv2/lib/python3.10/site-packages (from torch) (11.4.5.107)\nRequirement already satisfied: nvidia-cusparse-cu12==12.1.0.106 in /anaconda/envs/azureml_py310_sdkv2/lib/python3.10/site-packages (from torch) (12.1.0.106)\nRequirement already satisfied: nvidia-nccl-cu12==2.20.5 in /anaconda/envs/azureml_py310_sdkv2/lib/python3.10/site-packages (from torch) (2.20.5)\nRequirement already satisfied: nvidia-nvtx-cu12==12.1.105 in /anaconda/envs/azureml_py310_sdkv2/lib/python3.10/site-packages (from torch) (12.1.105)\nRequirement already satisfied: triton==3.0.0 in /anaconda/envs/azureml_py310_sdkv2/lib/python3.10/site-packages (from torch) (3.0.0)\nRequirement already satisfied: nvidia-nvjitlink-cu12 in /anaconda/envs/azureml_py310_sdkv2/lib/python3.10/site-packages (from nvidia-cusolver-cu12==11.4.5.107->torch) (12.6.77)\nRequirement already satisfied: datasets in /anaconda/envs/azureml_py310_sdkv2/lib/python3.10/site-packages (from FlagEmbedding) (3.0.1)\nRequirement already satisfied: sentence-transformers in /anaconda/envs/azureml_py310_sdkv2/lib/python3.10/site-packages (from FlagEmbedding) (3.1.1)\nRequirement already satisfied: packaging>=20.0 in /anaconda/envs/azureml_py310_sdkv2/lib/python3.10/site-packages (from peft) (24.1)\nRequirement already satisfied: psutil in /anaconda/envs/azureml_py310_sdkv2/lib/python3.10/site-packages (from peft) (6.0.0)\nRequirement already satisfied: pyyaml in /anaconda/envs/azureml_py310_sdkv2/lib/python3.10/site-packages (from peft) (6.0.2)\nRequirement already satisfied: safetensors in /anaconda/envs/azureml_py310_sdkv2/lib/python3.10/site-packages (from peft) (0.4.5)\nRequirement already satisfied: huggingface-hub>=0.17.0 in /anaconda/envs/azureml_py310_sdkv2/lib/python3.10/site-packages (from peft) (0.25.1)\nRequirement already satisfied: et-xmlfile in /anaconda/envs/azureml_py310_sdkv2/lib/python3.10/site-packages (from openpyxl) (1.1.0)\nRequirement already satisfied: coloredlogs in /anaconda/envs/azureml_py310_sdkv2/lib/python3.10/site-packages (from optimum) (15.0.1)\nRequirement already satisfied: regex!=2019.12.17 in /anaconda/envs/azureml_py310_sdkv2/lib/python3.10/site-packages (from transformers) (2024.9.11)\nRequirement already satisfied: requests in /anaconda/envs/azureml_py310_sdkv2/lib/python3.10/site-packages (from transformers) (2.32.3)\nRequirement already satisfied: tokenizers<0.20,>=0.19 in /anaconda/envs/azureml_py310_sdkv2/lib/python3.10/site-packages (from transformers) (0.19.1)\nRequirement already satisfied: six>=1.5 in /anaconda/envs/azureml_py310_sdkv2/lib/python3.10/site-packages (from python-dateutil>=2.8.2->pandas) (1.16.0)\nRequirement already satisfied: protobuf in /anaconda/envs/azureml_py310_sdkv2/lib/python3.10/site-packages (from transformers[sentencepiece]<4.45.0,>=4.29->optimum) (5.28.2)\nRequirement already satisfied: sentencepiece!=0.1.92,>=0.1.91 in /anaconda/envs/azureml_py310_sdkv2/lib/python3.10/site-packages (from transformers[sentencepiece]<4.45.0,>=4.29->optimum) (0.2.0)\nRequirement already satisfied: humanfriendly>=9.1 in /anaconda/envs/azureml_py310_sdkv2/lib/python3.10/site-packages (from coloredlogs->optimum) (10.0)\nRequirement already satisfied: pyarrow>=15.0.0 in /anaconda/envs/azureml_py310_sdkv2/lib/python3.10/site-packages (from datasets->FlagEmbedding) (17.0.0)\nRequirement already satisfied: dill<0.3.9,>=0.3.0 in /anaconda/envs/azureml_py310_sdkv2/lib/python3.10/site-packages (from datasets->FlagEmbedding) (0.3.8)\nRequirement already satisfied: xxhash in /anaconda/envs/azureml_py310_sdkv2/lib/python3.10/site-packages (from datasets->FlagEmbedding) (3.5.0)\nRequirement already satisfied: multiprocess in /anaconda/envs/azureml_py310_sdkv2/lib/python3.10/site-packages (from datasets->FlagEmbedding) (0.70.16)\nRequirement already satisfied: aiohttp in /anaconda/envs/azureml_py310_sdkv2/lib/python3.10/site-packages (from datasets->FlagEmbedding) (3.10.9)\nRequirement already satisfied: charset-normalizer<4,>=2 in /anaconda/envs/azureml_py310_sdkv2/lib/python3.10/site-packages (from requests->transformers) (3.3.2)\nRequirement already satisfied: idna<4,>=2.5 in /anaconda/envs/azureml_py310_sdkv2/lib/python3.10/site-packages (from requests->transformers) (3.10)\nRequirement already satisfied: urllib3<3,>=1.21.1 in /anaconda/envs/azureml_py310_sdkv2/lib/python3.10/site-packages (from requests->transformers) (2.2.3)\nRequirement already satisfied: certifi>=2017.4.17 in /anaconda/envs/azureml_py310_sdkv2/lib/python3.10/site-packages (from requests->transformers) (2024.8.30)\nRequirement already satisfied: MarkupSafe>=2.0 in /anaconda/envs/azureml_py310_sdkv2/lib/python3.10/site-packages (from jinja2->torch) (2.1.5)\nRequirement already satisfied: scikit-learn in /anaconda/envs/azureml_py310_sdkv2/lib/python3.10/site-packages (from sentence-transformers->FlagEmbedding) (1.5.2)\nRequirement already satisfied: scipy in /anaconda/envs/azureml_py310_sdkv2/lib/python3.10/site-packages (from sentence-transformers->FlagEmbedding) (1.14.1)\nRequirement already satisfied: Pillow in /anaconda/envs/azureml_py310_sdkv2/lib/python3.10/site-packages (from sentence-transformers->FlagEmbedding) (10.4.0)\nRequirement already satisfied: mpmath<1.4,>=1.1.0 in /anaconda/envs/azureml_py310_sdkv2/lib/python3.10/site-packages (from sympy->torch) (1.3.0)\nRequirement already satisfied: aiohappyeyeballs>=2.3.0 in /anaconda/envs/azureml_py310_sdkv2/lib/python3.10/site-packages (from aiohttp->datasets->FlagEmbedding) (2.4.3)\nRequirement already satisfied: aiosignal>=1.1.2 in /anaconda/envs/azureml_py310_sdkv2/lib/python3.10/site-packages (from aiohttp->datasets->FlagEmbedding) (1.3.1)\nRequirement already satisfied: attrs>=17.3.0 in /anaconda/envs/azureml_py310_sdkv2/lib/python3.10/site-packages (from aiohttp->datasets->FlagEmbedding) (24.2.0)\nRequirement already satisfied: frozenlist>=1.1.1 in /anaconda/envs/azureml_py310_sdkv2/lib/python3.10/site-packages (from aiohttp->datasets->FlagEmbedding) (1.4.1)\nRequirement already satisfied: multidict<7.0,>=4.5 in /anaconda/envs/azureml_py310_sdkv2/lib/python3.10/site-packages (from aiohttp->datasets->FlagEmbedding) (6.1.0)\nRequirement already satisfied: yarl<2.0,>=1.12.0 in /anaconda/envs/azureml_py310_sdkv2/lib/python3.10/site-packages (from aiohttp->datasets->FlagEmbedding) (1.13.1)\nRequirement already satisfied: async-timeout<5.0,>=4.0 in /anaconda/envs/azureml_py310_sdkv2/lib/python3.10/site-packages (from aiohttp->datasets->FlagEmbedding) (4.0.3)\nRequirement already satisfied: joblib>=1.2.0 in /anaconda/envs/azureml_py310_sdkv2/lib/python3.10/site-packages (from scikit-learn->sentence-transformers->FlagEmbedding) (1.4.2)\nRequirement already satisfied: threadpoolctl>=3.1.0 in /anaconda/envs/azureml_py310_sdkv2/lib/python3.10/site-packages (from scikit-learn->sentence-transformers->FlagEmbedding) (3.5.0)\nNote: you may need to restart the kernel to use updated packages.\n"
        }
      ],
      "execution_count": 38,
      "metadata": {
        "jupyter": {
          "source_hidden": false,
          "outputs_hidden": false
        },
        "nteract": {
          "transient": {
            "deleting": false
          }
        }
      }
    },
    {
      "cell_type": "markdown",
      "source": [
        "## 3. Imports"
      ],
      "metadata": {
        "nteract": {
          "transient": {
            "deleting": false
          }
        }
      }
    },
    {
      "cell_type": "markdown",
      "source": [
        "### 3.1 Import external modules"
      ],
      "metadata": {
        "nteract": {
          "transient": {
            "deleting": false
          }
        }
      }
    },
    {
      "cell_type": "code",
      "source": [
        "import numpy as np\n",
        "import pandas as pd\n",
        "import os\n",
        "from tqdm import tqdm\n",
        "import pickle\n",
        "import torch\n",
        "from pathlib import Path\n",
        "from FlagEmbedding import BGEM3FlagModel\n",
        "import accelerate\n",
        "import torch\n",
        "from transformers import AutoModelForQuestionAnswering, AutoTokenizer, pipeline\n",
        "from huggingface_hub import login"
      ],
      "outputs": [],
      "execution_count": 7,
      "metadata": {
        "gather": {
          "logged": 1728133411294
        }
      }
    },
    {
      "cell_type": "markdown",
      "source": [
        "### 3.2 Import internal modules"
      ],
      "metadata": {
        "nteract": {
          "transient": {
            "deleting": false
          }
        }
      }
    },
    {
      "cell_type": "code",
      "source": [
        "from src.utils.constants import Paths\n",
        "from src.data_utils.file_reader import FileReader\n",
        "from src.data_utils.data_preprocessing import clean_job_advertisements\n",
        "from src.data_utils.labels_preprocessing import clean_isco_labels, merge_taxonomies\n",
        "from src.data_utils.embeddings_manager import embed_and_save, compute_cosine_similarity_matrix, get_knn\n",
        "from src.data_utils.llm_manager import generate_prompts\n",
        "from src.utils.helpers import convert_knn_indices_to_codes, extract_first_4_digit_string"
      ],
      "outputs": [],
      "execution_count": 68,
      "metadata": {
        "jupyter": {
          "source_hidden": false,
          "outputs_hidden": false
        },
        "nteract": {
          "transient": {
            "deleting": false
          }
        },
        "gather": {
          "logged": 1728135088283
        }
      }
    },
    {
      "cell_type": "markdown",
      "source": [
        "## 4. Pre-processing"
      ],
      "metadata": {
        "nteract": {
          "transient": {
            "deleting": false
          }
        }
      }
    },
    {
      "cell_type": "markdown",
      "source": [
        "### 4.1 Pre-process job advertisments"
      ],
      "metadata": {
        "nteract": {
          "transient": {
            "deleting": false
          }
        }
      }
    },
    {
      "cell_type": "code",
      "source": [
        "# Read in raw job advertisments\n",
        "jobs = FileReader.read_job_advertisements()\n",
        "\n",
        "# Read in job advertisments if exists, otherwise clean and save\n",
        "try:\n",
        "    clean_jobs = FileReader.read_clean_job_advertisements()\n",
        "except:\n",
        "    clean_jobs = clean_job_advertisements(df=jobs)\n",
        "    clean_jobs.to_csv(Paths.CLEAN_DATA_PATH, index=False)"
      ],
      "outputs": [
        {
          "output_type": "stream",
          "name": "stdout",
          "text": "Reading raw job advertisements from: /mnt/batch/tasks/shared/LS_root/mounts/clusters/a100-c48-dimitris/code/Users/dimitrios.petridis/eurostat-data-challenge-2024/data/raw/wi_dataset.csv\nRaw job advertisements read successfully. Shape: (25665, 3)\nReading clean job advertisements from: /mnt/batch/tasks/shared/LS_root/mounts/clusters/a100-c48-dimitris/code/Users/dimitrios.petridis/eurostat-data-challenge-2024/data/interim/wi_dataset_clean.csv\nClean job advertisements read successfully. Shape: (25665, 7)\n"
        }
      ],
      "execution_count": 9,
      "metadata": {
        "jupyter": {
          "source_hidden": false,
          "outputs_hidden": false
        },
        "nteract": {
          "transient": {
            "deleting": false
          }
        },
        "gather": {
          "logged": 1728133416714
        }
      }
    },
    {
      "cell_type": "code",
      "source": [
        "# Inspect job advertisments\n",
        "clean_jobs.head()"
      ],
      "outputs": [
        {
          "output_type": "execute_result",
          "execution_count": 10,
          "data": {
            "text/plain": "          id                                              title  \\\n0  872828466                           Panel & Paint Technician   \n1  839465958  Lärare i slöjd och teknik för årkurs 7-9, Ljun...   \n2  857077872      Consultants in Emergency Medicine - Doughiska   \n3  801801567                        Senior IT Support Engineers   \n4  855162927                   Commercial Sales Representatives   \n\n                                         description  \\\n0  Panel & Paint Technician required in Colcheste...   \n1  Sista ansökningsdatum: 1 juni 2021 Referensnum...   \n2  The Galway Clinic is a leading 146 bed, state ...   \n3  My Client, who has been continually growing th...   \n4  Jobbtitel: \"Commercial Sales Representatives\" ...   \n\n                                   description_clean  \\\n0  panel & paint technician required in colcheste...   \n1  sista ansökningsdatum: 1 juni 2021 referensnum...   \n2  the galway clinic is a leading 146 bed, state ...   \n3  my client, who has been continually growing th...   \n4  jobbtitel: \"commercial sales representatives\" ...   \n\n                                description_clean_nn  \\\n0  panel & paint technician required in colcheste...   \n1  sista ansökningsdatum:  juni  referensnummer: ...   \n2  the galway clinic is a leading  bed, state of ...   \n3  my client, who has been continually growing th...   \n4  jobbtitel: \"commercial sales representatives\" ...   \n\n                                         title_clean  \\\n0                           panel & paint technician   \n1  lärare i slöjd och teknik för årkurs 7-9, ljun...   \n2      consultants in emergency medicine - doughiska   \n3                        senior it support engineers   \n4                   commercial sales representatives   \n\n                                      title_clean_nn  \n0                           panel & paint technician  \n1  lärare i slöjd och teknik för årkurs -, ljungs...  \n2      consultants in emergency medicine - doughiska  \n3                        senior it support engineers  \n4                   commercial sales representatives  ",
            "text/html": "<div>\n<style scoped>\n    .dataframe tbody tr th:only-of-type {\n        vertical-align: middle;\n    }\n\n    .dataframe tbody tr th {\n        vertical-align: top;\n    }\n\n    .dataframe thead th {\n        text-align: right;\n    }\n</style>\n<table border=\"1\" class=\"dataframe\">\n  <thead>\n    <tr style=\"text-align: right;\">\n      <th></th>\n      <th>id</th>\n      <th>title</th>\n      <th>description</th>\n      <th>description_clean</th>\n      <th>description_clean_nn</th>\n      <th>title_clean</th>\n      <th>title_clean_nn</th>\n    </tr>\n  </thead>\n  <tbody>\n    <tr>\n      <th>0</th>\n      <td>872828466</td>\n      <td>Panel &amp; Paint Technician</td>\n      <td>Panel &amp; Paint Technician required in Colcheste...</td>\n      <td>panel &amp; paint technician required in colcheste...</td>\n      <td>panel &amp; paint technician required in colcheste...</td>\n      <td>panel &amp; paint technician</td>\n      <td>panel &amp; paint technician</td>\n    </tr>\n    <tr>\n      <th>1</th>\n      <td>839465958</td>\n      <td>Lärare i slöjd och teknik för årkurs 7-9, Ljun...</td>\n      <td>Sista ansökningsdatum: 1 juni 2021 Referensnum...</td>\n      <td>sista ansökningsdatum: 1 juni 2021 referensnum...</td>\n      <td>sista ansökningsdatum:  juni  referensnummer: ...</td>\n      <td>lärare i slöjd och teknik för årkurs 7-9, ljun...</td>\n      <td>lärare i slöjd och teknik för årkurs -, ljungs...</td>\n    </tr>\n    <tr>\n      <th>2</th>\n      <td>857077872</td>\n      <td>Consultants in Emergency Medicine - Doughiska</td>\n      <td>The Galway Clinic is a leading 146 bed, state ...</td>\n      <td>the galway clinic is a leading 146 bed, state ...</td>\n      <td>the galway clinic is a leading  bed, state of ...</td>\n      <td>consultants in emergency medicine - doughiska</td>\n      <td>consultants in emergency medicine - doughiska</td>\n    </tr>\n    <tr>\n      <th>3</th>\n      <td>801801567</td>\n      <td>Senior IT Support Engineers</td>\n      <td>My Client, who has been continually growing th...</td>\n      <td>my client, who has been continually growing th...</td>\n      <td>my client, who has been continually growing th...</td>\n      <td>senior it support engineers</td>\n      <td>senior it support engineers</td>\n    </tr>\n    <tr>\n      <th>4</th>\n      <td>855162927</td>\n      <td>Commercial Sales Representatives</td>\n      <td>Jobbtitel: \"Commercial Sales Representatives\" ...</td>\n      <td>jobbtitel: \"commercial sales representatives\" ...</td>\n      <td>jobbtitel: \"commercial sales representatives\" ...</td>\n      <td>commercial sales representatives</td>\n      <td>commercial sales representatives</td>\n    </tr>\n  </tbody>\n</table>\n</div>"
          },
          "metadata": {}
        }
      ],
      "execution_count": 10,
      "metadata": {
        "jupyter": {
          "source_hidden": false,
          "outputs_hidden": false
        },
        "nteract": {
          "transient": {
            "deleting": false
          }
        },
        "gather": {
          "logged": 1728133417137
        }
      }
    },
    {
      "cell_type": "markdown",
      "source": [
        "### 4.2 Pre-process taxonomy"
      ],
      "metadata": {
        "nteract": {
          "transient": {
            "deleting": false
          }
        }
      }
    },
    {
      "cell_type": "code",
      "source": [
        "# Read in eurostat taxonomy\n",
        "labels = FileReader.read_isco_labels()\n",
        "\n",
        "# Read in ISCO-08 taxonomy\n",
        "taxonomy = FileReader.read_external_labels()"
      ],
      "outputs": [
        {
          "output_type": "stream",
          "name": "stdout",
          "text": "Reading raw ISCO taxonomy from: /mnt/batch/tasks/shared/LS_root/mounts/clusters/a100-c48-dimitris/code/Users/dimitrios.petridis/eurostat-data-challenge-2024/data/raw/wi_labels.csv\nRaw eurostat taxonomy read successfully. Shape: (436, 3)\nReading reference taxonomy from: /mnt/batch/tasks/shared/LS_root/mounts/clusters/a100-c48-dimitris/code/Users/dimitrios.petridis/eurostat-data-challenge-2024/data/raw/ISCO-08 EN Structure and definitions.xlsx\nReference taxonomy read and processed successfully. Shape: (619, 8)\n"
        }
      ],
      "execution_count": 11,
      "metadata": {
        "jupyter": {
          "source_hidden": false,
          "outputs_hidden": false
        },
        "nteract": {
          "transient": {
            "deleting": false
          }
        },
        "gather": {
          "logged": 1728133417512
        }
      }
    },
    {
      "cell_type": "code",
      "source": [
        "# Merge taxonomies\n",
        "enhanced_labels = merge_taxonomies(labels=labels, taxonomy=taxonomy)"
      ],
      "outputs": [
        {
          "output_type": "stream",
          "name": "stdout",
          "text": "Merging reference taxonomy and eurostat taxonomy...\nTaxonomies merged successfully. Shape: (436, 27)\nCombined taxonomy (boosted) read and enhanced successfully. Shape: (436, 27)\n"
        }
      ],
      "execution_count": 12,
      "metadata": {
        "jupyter": {
          "source_hidden": false,
          "outputs_hidden": false
        },
        "nteract": {
          "transient": {
            "deleting": false
          }
        },
        "gather": {
          "logged": 1728133417818
        }
      }
    },
    {
      "cell_type": "code",
      "source": [
        "# Clean labels\n",
        "clean_labels = clean_isco_labels(df=enhanced_labels)"
      ],
      "outputs": [
        {
          "output_type": "stream",
          "name": "stdout",
          "text": "Starting cleaning isco labels...\nNumber of missing values in code: 0\nReplaced 0 missing values in code with '-'.\nNumber of missing values in title_ext_level_4: 0\nReplaced 0 missing values in title_ext_level_4 with '-'.\nNumber of missing values in description_ext_level_4: 0\nReplaced 0 missing values in description_ext_level_4 with '-'.\nNumber of missing values in tasks_include_level_4: 9\nReplaced 9 missing values in tasks_include_level_4 with '-'.\nNumber of missing values in included_occupations_level_4: 0\nReplaced 0 missing values in included_occupations_level_4 with '-'.\nNumber of missing values in excluded_occupations_level_4: 132\nReplaced 132 missing values in excluded_occupations_level_4 with '-'.\nNumber of missing values in notes_level_4: 368\nReplaced 368 missing values in notes_level_4 with '-'.\nNumber of missing values in title: 0\nReplaced 0 missing values in title with '-'.\nNumber of missing values in description: 0\nReplaced 0 missing values in description with '-'.\nNumber of missing values in title_ext_level_1: 0\nReplaced 0 missing values in title_ext_level_1 with '-'.\nNumber of missing values in description_ext_level_1: 0\nReplaced 0 missing values in description_ext_level_1 with '-'.\nNumber of missing values in tasks_include_level_1: 3\nReplaced 3 missing values in tasks_include_level_1 with '-'.\nNumber of missing values in included_occupations_level_1: 0\nReplaced 0 missing values in included_occupations_level_1 with '-'.\nNumber of missing values in excluded_occupations_level_1: 433\nReplaced 433 missing values in excluded_occupations_level_1 with '-'.\nNumber of missing values in notes_level_1: 362\nReplaced 362 missing values in notes_level_1 with '-'.\nNumber of missing values in title_ext_level_2: 0\nReplaced 0 missing values in title_ext_level_2 with '-'.\nNumber of missing values in description_ext_level_2: 0\nReplaced 0 missing values in description_ext_level_2 with '-'.\nNumber of missing values in tasks_include_level_2: 3\nReplaced 3 missing values in tasks_include_level_2 with '-'.\nNumber of missing values in included_occupations_level_2: 0\nReplaced 0 missing values in included_occupations_level_2 with '-'.\nNumber of missing values in excluded_occupations_level_2: 433\nReplaced 433 missing values in excluded_occupations_level_2 with '-'.\nNumber of missing values in notes_level_2: 338\nReplaced 338 missing values in notes_level_2 with '-'.\nNumber of missing values in title_ext_level_3: 0\nReplaced 0 missing values in title_ext_level_3 with '-'.\nNumber of missing values in description_ext_level_3: 0\nReplaced 0 missing values in description_ext_level_3 with '-'.\nNumber of missing values in tasks_include_level_3: 3\nReplaced 3 missing values in tasks_include_level_3 with '-'.\nNumber of missing values in included_occupations_level_3: 0\nReplaced 0 missing values in included_occupations_level_3 with '-'.\nNumber of missing values in excluded_occupations_level_3: 433\nReplaced 433 missing values in excluded_occupations_level_3 with '-'.\nNumber of missing values in notes_level_3: 388\nReplaced 388 missing values in notes_level_3 with '-'.\nData types after filling missing values:\ncode                            string[python]\ntitle_ext_level_4               string[python]\ndescription_ext_level_4         string[python]\ntasks_include_level_4           string[python]\nincluded_occupations_level_4    string[python]\nexcluded_occupations_level_4    string[python]\nnotes_level_4                   string[python]\ntitle                           string[python]\ndescription                     string[python]\ntitle_ext_level_1               string[python]\ndescription_ext_level_1         string[python]\ntasks_include_level_1           string[python]\nincluded_occupations_level_1    string[python]\nexcluded_occupations_level_1    string[python]\nnotes_level_1                   string[python]\ntitle_ext_level_2               string[python]\ndescription_ext_level_2         string[python]\ntasks_include_level_2           string[python]\nincluded_occupations_level_2    string[python]\nexcluded_occupations_level_2    string[python]\nnotes_level_2                   string[python]\ntitle_ext_level_3               string[python]\ndescription_ext_level_3         string[python]\ntasks_include_level_3           string[python]\nincluded_occupations_level_3    string[python]\nexcluded_occupations_level_3    string[python]\nnotes_level_3                   string[python]\ndtype: object\nExtracting included occupations...\nExtracting excluded occupations...\nCleaning column: title_ext_level_4\nConverting HTML entities to ASCII in title_ext_level_4...\nRemoving HTML tags from title_ext_level_4...\nSplitting uppercase characters after lowercase in title_ext_level_4...\nConverting title_ext_level_4 to lowercase...\nRemoving extra whitespaces from title_ext_level_4...\nRemoving repeated punctuations from title_ext_level_4...\nConverting title_ext_level_4 to empty string when it contains only punctuations...\nCleaning column: description_ext_level_4\nConverting HTML entities to ASCII in description_ext_level_4...\nRemoving HTML tags from description_ext_level_4...\nSplitting uppercase characters after lowercase in description_ext_level_4...\nConverting description_ext_level_4 to lowercase...\nRemoving extra whitespaces from description_ext_level_4...\nRemoving repeated punctuations from description_ext_level_4...\nConverting description_ext_level_4 to empty string when it contains only punctuations...\nCleaning column: tasks_include_level_4\nConverting HTML entities to ASCII in tasks_include_level_4...\nRemoving HTML tags from tasks_include_level_4...\nSplitting uppercase characters after lowercase in tasks_include_level_4...\nConverting tasks_include_level_4 to lowercase...\nRemoving extra whitespaces from tasks_include_level_4...\nRemoving repeated punctuations from tasks_include_level_4...\nConverting tasks_include_level_4 to empty string when it contains only punctuations...\nCleaning column: included_occupations_level_4\nConverting HTML entities to ASCII in included_occupations_level_4...\nRemoving HTML tags from included_occupations_level_4...\nSplitting uppercase characters after lowercase in included_occupations_level_4...\nConverting included_occupations_level_4 to lowercase...\nRemoving extra whitespaces from included_occupations_level_4...\nRemoving repeated punctuations from included_occupations_level_4...\nConverting included_occupations_level_4 to empty string when it contains only punctuations...\nCleaning column: excluded_occupations_level_4\nConverting HTML entities to ASCII in excluded_occupations_level_4...\nRemoving HTML tags from excluded_occupations_level_4...\nSplitting uppercase characters after lowercase in excluded_occupations_level_4...\nConverting excluded_occupations_level_4 to lowercase...\nRemoving extra whitespaces from excluded_occupations_level_4...\nRemoving repeated punctuations from excluded_occupations_level_4...\nConverting excluded_occupations_level_4 to empty string when it contains only punctuations...\nCleaning column: notes_level_4\nConverting HTML entities to ASCII in notes_level_4...\nRemoving HTML tags from notes_level_4...\nSplitting uppercase characters after lowercase in notes_level_4...\nConverting notes_level_4 to lowercase...\nRemoving extra whitespaces from notes_level_4...\nRemoving repeated punctuations from notes_level_4...\nConverting notes_level_4 to empty string when it contains only punctuations...\nCleaning column: title_ext_level_1\nConverting HTML entities to ASCII in title_ext_level_1...\nRemoving HTML tags from title_ext_level_1...\nSplitting uppercase characters after lowercase in title_ext_level_1...\nConverting title_ext_level_1 to lowercase...\nRemoving extra whitespaces from title_ext_level_1...\nRemoving repeated punctuations from title_ext_level_1...\nConverting title_ext_level_1 to empty string when it contains only punctuations...\nCleaning column: description_ext_level_1\nConverting HTML entities to ASCII in description_ext_level_1...\nRemoving HTML tags from description_ext_level_1...\nSplitting uppercase characters after lowercase in description_ext_level_1...\nConverting description_ext_level_1 to lowercase...\nRemoving extra whitespaces from description_ext_level_1...\nRemoving repeated punctuations from description_ext_level_1...\nConverting description_ext_level_1 to empty string when it contains only punctuations...\nCleaning column: tasks_include_level_1\nConverting HTML entities to ASCII in tasks_include_level_1...\nRemoving HTML tags from tasks_include_level_1...\nSplitting uppercase characters after lowercase in tasks_include_level_1...\nConverting tasks_include_level_1 to lowercase...\nRemoving extra whitespaces from tasks_include_level_1...\nRemoving repeated punctuations from tasks_include_level_1...\nConverting tasks_include_level_1 to empty string when it contains only punctuations...\nCleaning column: included_occupations_level_1\nConverting HTML entities to ASCII in included_occupations_level_1...\nRemoving HTML tags from included_occupations_level_1...\nSplitting uppercase characters after lowercase in included_occupations_level_1...\nConverting included_occupations_level_1 to lowercase...\nRemoving extra whitespaces from included_occupations_level_1...\nRemoving repeated punctuations from included_occupations_level_1...\nConverting included_occupations_level_1 to empty string when it contains only punctuations...\nCleaning column: excluded_occupations_level_1\nConverting HTML entities to ASCII in excluded_occupations_level_1...\nRemoving HTML tags from excluded_occupations_level_1...\nSplitting uppercase characters after lowercase in excluded_occupations_level_1...\nConverting excluded_occupations_level_1 to lowercase...\nRemoving extra whitespaces from excluded_occupations_level_1...\nRemoving repeated punctuations from excluded_occupations_level_1...\nConverting excluded_occupations_level_1 to empty string when it contains only punctuations...\nCleaning column: notes_level_1\nConverting HTML entities to ASCII in notes_level_1...\nRemoving HTML tags from notes_level_1...\nSplitting uppercase characters after lowercase in notes_level_1...\nConverting notes_level_1 to lowercase...\nRemoving extra whitespaces from notes_level_1...\nRemoving repeated punctuations from notes_level_1...\nConverting notes_level_1 to empty string when it contains only punctuations...\nCleaning column: title_ext_level_2\nConverting HTML entities to ASCII in title_ext_level_2...\nRemoving HTML tags from title_ext_level_2...\nSplitting uppercase characters after lowercase in title_ext_level_2...\nConverting title_ext_level_2 to lowercase...\nRemoving extra whitespaces from title_ext_level_2...\nRemoving repeated punctuations from title_ext_level_2...\nConverting title_ext_level_2 to empty string when it contains only punctuations...\nCleaning column: description_ext_level_2\nConverting HTML entities to ASCII in description_ext_level_2...\nRemoving HTML tags from description_ext_level_2...\nSplitting uppercase characters after lowercase in description_ext_level_2...\nConverting description_ext_level_2 to lowercase...\nRemoving extra whitespaces from description_ext_level_2...\nRemoving repeated punctuations from description_ext_level_2...\nConverting description_ext_level_2 to empty string when it contains only punctuations...\nCleaning column: tasks_include_level_2\nConverting HTML entities to ASCII in tasks_include_level_2...\nRemoving HTML tags from tasks_include_level_2...\nSplitting uppercase characters after lowercase in tasks_include_level_2...\nConverting tasks_include_level_2 to lowercase...\nRemoving extra whitespaces from tasks_include_level_2...\nRemoving repeated punctuations from tasks_include_level_2...\nConverting tasks_include_level_2 to empty string when it contains only punctuations...\nCleaning column: included_occupations_level_2\nConverting HTML entities to ASCII in included_occupations_level_2...\nRemoving HTML tags from included_occupations_level_2...\nSplitting uppercase characters after lowercase in included_occupations_level_2...\nConverting included_occupations_level_2 to lowercase...\nRemoving extra whitespaces from included_occupations_level_2...\nRemoving repeated punctuations from included_occupations_level_2...\nConverting included_occupations_level_2 to empty string when it contains only punctuations...\nCleaning column: excluded_occupations_level_2\nConverting HTML entities to ASCII in excluded_occupations_level_2...\nRemoving HTML tags from excluded_occupations_level_2...\nSplitting uppercase characters after lowercase in excluded_occupations_level_2...\nConverting excluded_occupations_level_2 to lowercase...\nRemoving extra whitespaces from excluded_occupations_level_2...\nRemoving repeated punctuations from excluded_occupations_level_2...\nConverting excluded_occupations_level_2 to empty string when it contains only punctuations...\nCleaning column: notes_level_2\nConverting HTML entities to ASCII in notes_level_2...\nRemoving HTML tags from notes_level_2...\nSplitting uppercase characters after lowercase in notes_level_2...\nConverting notes_level_2 to lowercase...\nRemoving extra whitespaces from notes_level_2...\nRemoving repeated punctuations from notes_level_2...\nConverting notes_level_2 to empty string when it contains only punctuations...\nCleaning column: title_ext_level_3\nConverting HTML entities to ASCII in title_ext_level_3...\nRemoving HTML tags from title_ext_level_3...\nSplitting uppercase characters after lowercase in title_ext_level_3...\nConverting title_ext_level_3 to lowercase...\nRemoving extra whitespaces from title_ext_level_3...\nRemoving repeated punctuations from title_ext_level_3...\nConverting title_ext_level_3 to empty string when it contains only punctuations...\nCleaning column: description_ext_level_3\nConverting HTML entities to ASCII in description_ext_level_3...\nRemoving HTML tags from description_ext_level_3...\nSplitting uppercase characters after lowercase in description_ext_level_3...\nConverting description_ext_level_3 to lowercase...\nRemoving extra whitespaces from description_ext_level_3...\nRemoving repeated punctuations from description_ext_level_3...\nConverting description_ext_level_3 to empty string when it contains only punctuations...\nCleaning column: tasks_include_level_3\nConverting HTML entities to ASCII in tasks_include_level_3...\nRemoving HTML tags from tasks_include_level_3...\nSplitting uppercase characters after lowercase in tasks_include_level_3...\nConverting tasks_include_level_3 to lowercase...\nRemoving extra whitespaces from tasks_include_level_3...\nRemoving repeated punctuations from tasks_include_level_3...\nConverting tasks_include_level_3 to empty string when it contains only punctuations...\nCleaning column: included_occupations_level_3\nConverting HTML entities to ASCII in included_occupations_level_3...\nRemoving HTML tags from included_occupations_level_3...\nSplitting uppercase characters after lowercase in included_occupations_level_3...\nConverting included_occupations_level_3 to lowercase...\nRemoving extra whitespaces from included_occupations_level_3...\nRemoving repeated punctuations from included_occupations_level_3...\nConverting included_occupations_level_3 to empty string when it contains only punctuations...\nCleaning column: excluded_occupations_level_3\nConverting HTML entities to ASCII in excluded_occupations_level_3...\nRemoving HTML tags from excluded_occupations_level_3...\nSplitting uppercase characters after lowercase in excluded_occupations_level_3...\nConverting excluded_occupations_level_3 to lowercase...\nRemoving extra whitespaces from excluded_occupations_level_3...\nRemoving repeated punctuations from excluded_occupations_level_3...\nConverting excluded_occupations_level_3 to empty string when it contains only punctuations...\nCleaning column: notes_level_3\nConverting HTML entities to ASCII in notes_level_3...\nRemoving HTML tags from notes_level_3...\nSplitting uppercase characters after lowercase in notes_level_3...\nConverting notes_level_3 to lowercase...\nRemoving extra whitespaces from notes_level_3...\nRemoving repeated punctuations from notes_level_3...\nConverting notes_level_3 to empty string when it contains only punctuations...\nCreating unique id column...\nFinal data types:\ncode                                  string[python]\ntitle_ext_level_4                     string[python]\ndescription_ext_level_4               string[python]\ntasks_include_level_4                 string[python]\nincluded_occupations_level_4          string[python]\nexcluded_occupations_level_4          string[python]\nnotes_level_4                         string[python]\ntitle                                 string[python]\ndescription                           string[python]\ntitle_ext_level_1                     string[python]\ndescription_ext_level_1               string[python]\ntasks_include_level_1                 string[python]\nincluded_occupations_level_1          string[python]\nexcluded_occupations_level_1          string[python]\nnotes_level_1                         string[python]\ntitle_ext_level_2                     string[python]\ndescription_ext_level_2               string[python]\ntasks_include_level_2                 string[python]\nincluded_occupations_level_2          string[python]\nexcluded_occupations_level_2          string[python]\nnotes_level_2                         string[python]\ntitle_ext_level_3                     string[python]\ndescription_ext_level_3               string[python]\ntasks_include_level_3                 string[python]\nincluded_occupations_level_3          string[python]\nexcluded_occupations_level_3          string[python]\nnotes_level_3                         string[python]\nincluded_occupations_map                      object\nexcluded_occupations_map                      object\ntitle_ext_level_4_clean               string[python]\ndescription_ext_level_4_clean         string[python]\ntasks_include_level_4_clean           string[python]\nincluded_occupations_level_4_clean    string[python]\nexcluded_occupations_level_4_clean    string[python]\nnotes_level_4_clean                   string[python]\ntitle_ext_level_1_clean               string[python]\ndescription_ext_level_1_clean         string[python]\ntasks_include_level_1_clean           string[python]\nincluded_occupations_level_1_clean    string[python]\nexcluded_occupations_level_1_clean    string[python]\nnotes_level_1_clean                   string[python]\ntitle_ext_level_2_clean               string[python]\ndescription_ext_level_2_clean         string[python]\ntasks_include_level_2_clean           string[python]\nincluded_occupations_level_2_clean    string[python]\nexcluded_occupations_level_2_clean    string[python]\nnotes_level_2_clean                   string[python]\ntitle_ext_level_3_clean               string[python]\ndescription_ext_level_3_clean         string[python]\ntasks_include_level_3_clean           string[python]\nincluded_occupations_level_3_clean    string[python]\nexcluded_occupations_level_3_clean    string[python]\nnotes_level_3_clean                   string[python]\nid                                             Int64\ndtype: object\n"
        }
      ],
      "execution_count": 13,
      "metadata": {
        "jupyter": {
          "source_hidden": false,
          "outputs_hidden": false
        },
        "nteract": {
          "transient": {
            "deleting": false
          }
        },
        "gather": {
          "logged": 1728133418292
        }
      }
    },
    {
      "cell_type": "code",
      "source": [
        "# Inspect labels\n",
        "clean_labels.head()"
      ],
      "outputs": [
        {
          "output_type": "execute_result",
          "execution_count": 14,
          "data": {
            "text/plain": "   code                                  title_ext_level_4  \\\n0  1111                                        Legislators   \n1  1112                        Senior Government Officials   \n2  1113           Traditional Chiefs and Heads of Villages   \n3  1114  Senior Officials of Special-interest Organizat...   \n4  1120            Managing Directors and Chief Executives   \n\n                             description_ext_level_4  \\\n0  Legislators determine, formulate, and direct p...   \n1  Senior government officials advise governments...   \n2  Traditional chiefs and heads of villages perfo...   \n3  Senior officials of special-interest organizat...   \n4  Managing directors and chief executives formul...   \n\n                               tasks_include_level_4  \\\n0  Tasks include -\n(a)  presiding over or partici...   \n1  Tasks include -\n(a)  advising national, state,...   \n2  Tasks include -\n(a)  allocating the use of com...   \n3  Tasks include -\n(a)  determining and formulati...   \n4  Tasks include -\n(a)  planning, directing and c...   \n\n                        included_occupations_level_4  \\\n0  Examples of the occupations classified here:\n-...   \n1  Examples of the occupations classified here:\n-...   \n2  Examples of the occupations classified here:\n-...   \n3  Examples of the occupations classified here:\n-...   \n4  Examples of the occupations classified here:\n-...   \n\n  excluded_occupations_level_4  \\\n0                            -   \n1                            -   \n2                            -   \n3                            -   \n4                            -   \n\n                                       notes_level_4  \\\n0                                                  -   \n1  Chief executives of Government-owned enterpris...   \n2                                                  -   \n3                                                  -   \n4  Regional managers and other senior managers wh...   \n\n                                               title  \\\n0                                        Legislators   \n1                        Senior government officials   \n2            Traditional chiefs and heads of village   \n3  Senior officials of special-interest organisat...   \n4            Managing directors and chief executives   \n\n                                         description title_ext_level_1  ...  \\\n0  Legislators determine, formulate and direct po...          Managers  ...   \n1  Senior government officials advise governments...          Managers  ...   \n2  Traditional chiefs and heads of villages perfo...          Managers  ...   \n3  Senior officials of special-interest organizat...          Managers  ...   \n4  Managing directors and chief executives formul...          Managers  ...   \n\n                  included_occupations_level_2_clean  \\\n0  occupations in this sub-major group are classi...   \n1  occupations in this sub-major group are classi...   \n2  occupations in this sub-major group are classi...   \n3  occupations in this sub-major group are classi...   \n4  occupations in this sub-major group are classi...   \n\n  excluded_occupations_level_2_clean notes_level_2_clean  \\\n0                                  -                   -   \n1                                  -                   -   \n2                                  -                   -   \n3                                  -                   -   \n4                                  -                   -   \n\n                   title_ext_level_3_clean  \\\n0         legislators and senior officials   \n1         legislators and senior officials   \n2         legislators and senior officials   \n3         legislators and senior officials   \n4  managing directors and chief executives   \n\n                       description_ext_level_3_clean  \\\n0  legislators and senior officials determine, fo...   \n1  legislators and senior officials determine, fo...   \n2  legislators and senior officials determine, fo...   \n3  legislators and senior officials determine, fo...   \n4  managing directors and chief executives formul...   \n\n                         tasks_include_level_3_clean  \\\n0  tasks performed usually include: presiding ove...   \n1  tasks performed usually include: presiding ove...   \n2  tasks performed usually include: presiding ove...   \n3  tasks performed usually include: presiding ove...   \n4  tasks performed usually include: planning, dir...   \n\n                  included_occupations_level_3_clean  \\\n0  occupations in this minor group are classified...   \n1  occupations in this minor group are classified...   \n2  occupations in this minor group are classified...   \n3  occupations in this minor group are classified...   \n4  occupations in this minor group are classified...   \n\n  excluded_occupations_level_3_clean notes_level_3_clean id  \n0                                  -                   -  1  \n1                                  -                   -  2  \n2                                  -                   -  3  \n3                                  -                   -  4  \n4                                  -                   -  5  \n\n[5 rows x 54 columns]",
            "text/html": "<div>\n<style scoped>\n    .dataframe tbody tr th:only-of-type {\n        vertical-align: middle;\n    }\n\n    .dataframe tbody tr th {\n        vertical-align: top;\n    }\n\n    .dataframe thead th {\n        text-align: right;\n    }\n</style>\n<table border=\"1\" class=\"dataframe\">\n  <thead>\n    <tr style=\"text-align: right;\">\n      <th></th>\n      <th>code</th>\n      <th>title_ext_level_4</th>\n      <th>description_ext_level_4</th>\n      <th>tasks_include_level_4</th>\n      <th>included_occupations_level_4</th>\n      <th>excluded_occupations_level_4</th>\n      <th>notes_level_4</th>\n      <th>title</th>\n      <th>description</th>\n      <th>title_ext_level_1</th>\n      <th>...</th>\n      <th>included_occupations_level_2_clean</th>\n      <th>excluded_occupations_level_2_clean</th>\n      <th>notes_level_2_clean</th>\n      <th>title_ext_level_3_clean</th>\n      <th>description_ext_level_3_clean</th>\n      <th>tasks_include_level_3_clean</th>\n      <th>included_occupations_level_3_clean</th>\n      <th>excluded_occupations_level_3_clean</th>\n      <th>notes_level_3_clean</th>\n      <th>id</th>\n    </tr>\n  </thead>\n  <tbody>\n    <tr>\n      <th>0</th>\n      <td>1111</td>\n      <td>Legislators</td>\n      <td>Legislators determine, formulate, and direct p...</td>\n      <td>Tasks include -\n(a)  presiding over or partici...</td>\n      <td>Examples of the occupations classified here:\n-...</td>\n      <td>-</td>\n      <td>-</td>\n      <td>Legislators</td>\n      <td>Legislators determine, formulate and direct po...</td>\n      <td>Managers</td>\n      <td>...</td>\n      <td>occupations in this sub-major group are classi...</td>\n      <td>-</td>\n      <td>-</td>\n      <td>legislators and senior officials</td>\n      <td>legislators and senior officials determine, fo...</td>\n      <td>tasks performed usually include: presiding ove...</td>\n      <td>occupations in this minor group are classified...</td>\n      <td>-</td>\n      <td>-</td>\n      <td>1</td>\n    </tr>\n    <tr>\n      <th>1</th>\n      <td>1112</td>\n      <td>Senior Government Officials</td>\n      <td>Senior government officials advise governments...</td>\n      <td>Tasks include -\n(a)  advising national, state,...</td>\n      <td>Examples of the occupations classified here:\n-...</td>\n      <td>-</td>\n      <td>Chief executives of Government-owned enterpris...</td>\n      <td>Senior government officials</td>\n      <td>Senior government officials advise governments...</td>\n      <td>Managers</td>\n      <td>...</td>\n      <td>occupations in this sub-major group are classi...</td>\n      <td>-</td>\n      <td>-</td>\n      <td>legislators and senior officials</td>\n      <td>legislators and senior officials determine, fo...</td>\n      <td>tasks performed usually include: presiding ove...</td>\n      <td>occupations in this minor group are classified...</td>\n      <td>-</td>\n      <td>-</td>\n      <td>2</td>\n    </tr>\n    <tr>\n      <th>2</th>\n      <td>1113</td>\n      <td>Traditional Chiefs and Heads of Villages</td>\n      <td>Traditional chiefs and heads of villages perfo...</td>\n      <td>Tasks include -\n(a)  allocating the use of com...</td>\n      <td>Examples of the occupations classified here:\n-...</td>\n      <td>-</td>\n      <td>-</td>\n      <td>Traditional chiefs and heads of village</td>\n      <td>Traditional chiefs and heads of villages perfo...</td>\n      <td>Managers</td>\n      <td>...</td>\n      <td>occupations in this sub-major group are classi...</td>\n      <td>-</td>\n      <td>-</td>\n      <td>legislators and senior officials</td>\n      <td>legislators and senior officials determine, fo...</td>\n      <td>tasks performed usually include: presiding ove...</td>\n      <td>occupations in this minor group are classified...</td>\n      <td>-</td>\n      <td>-</td>\n      <td>3</td>\n    </tr>\n    <tr>\n      <th>3</th>\n      <td>1114</td>\n      <td>Senior Officials of Special-interest Organizat...</td>\n      <td>Senior officials of special-interest organizat...</td>\n      <td>Tasks include -\n(a)  determining and formulati...</td>\n      <td>Examples of the occupations classified here:\n-...</td>\n      <td>-</td>\n      <td>-</td>\n      <td>Senior officials of special-interest organisat...</td>\n      <td>Senior officials of special-interest organizat...</td>\n      <td>Managers</td>\n      <td>...</td>\n      <td>occupations in this sub-major group are classi...</td>\n      <td>-</td>\n      <td>-</td>\n      <td>legislators and senior officials</td>\n      <td>legislators and senior officials determine, fo...</td>\n      <td>tasks performed usually include: presiding ove...</td>\n      <td>occupations in this minor group are classified...</td>\n      <td>-</td>\n      <td>-</td>\n      <td>4</td>\n    </tr>\n    <tr>\n      <th>4</th>\n      <td>1120</td>\n      <td>Managing Directors and Chief Executives</td>\n      <td>Managing directors and chief executives formul...</td>\n      <td>Tasks include -\n(a)  planning, directing and c...</td>\n      <td>Examples of the occupations classified here:\n-...</td>\n      <td>-</td>\n      <td>Regional managers and other senior managers wh...</td>\n      <td>Managing directors and chief executives</td>\n      <td>Managing directors and chief executives formul...</td>\n      <td>Managers</td>\n      <td>...</td>\n      <td>occupations in this sub-major group are classi...</td>\n      <td>-</td>\n      <td>-</td>\n      <td>managing directors and chief executives</td>\n      <td>managing directors and chief executives formul...</td>\n      <td>tasks performed usually include: planning, dir...</td>\n      <td>occupations in this minor group are classified...</td>\n      <td>-</td>\n      <td>-</td>\n      <td>5</td>\n    </tr>\n  </tbody>\n</table>\n<p>5 rows × 54 columns</p>\n</div>"
          },
          "metadata": {}
        }
      ],
      "execution_count": 14,
      "metadata": {
        "jupyter": {
          "source_hidden": false,
          "outputs_hidden": false
        },
        "nteract": {
          "transient": {
            "deleting": false
          }
        },
        "gather": {
          "logged": 1728133418623
        }
      }
    },
    {
      "cell_type": "markdown",
      "source": [
        "## 5. Embeddings"
      ],
      "metadata": {
        "nteract": {
          "transient": {
            "deleting": false
          }
        }
      }
    },
    {
      "cell_type": "code",
      "source": [
        "# Instantiate embedding model\n",
        "model = BGEM3FlagModel(\"BAAI/bge-m3\", use_fp16=False)"
      ],
      "outputs": [
        {
          "output_type": "display_data",
          "data": {
            "text/plain": "Fetching 30 files:   0%|          | 0/30 [00:00<?, ?it/s]",
            "application/vnd.jupyter.widget-view+json": {
              "version_major": 2,
              "version_minor": 0,
              "model_id": "51cf7eedc1494f67a6223bba85045b03"
            }
          },
          "metadata": {}
        },
        {
          "output_type": "stream",
          "name": "stdout",
          "text": "----------using 2*GPUs----------\n"
        }
      ],
      "execution_count": 15,
      "metadata": {
        "jupyter": {
          "source_hidden": false,
          "outputs_hidden": false
        },
        "nteract": {
          "transient": {
            "deleting": false
          }
        },
        "gather": {
          "logged": 1728133422903
        }
      }
    },
    {
      "cell_type": "markdown",
      "source": [
        "### 5.1 Embed and save job advertisments"
      ],
      "metadata": {
        "nteract": {
          "transient": {
            "deleting": false
          }
        }
      }
    },
    {
      "cell_type": "code",
      "source": [
        "for col in ['description_clean', 'title_clean']:\n",
        "    embed_and_save(model=model, col=clean_jobs[col].to_list(), file_name=f'jobs_{col}.pickle', batch_size=12)"
      ],
      "outputs": [],
      "execution_count": null,
      "metadata": {
        "jupyter": {
          "source_hidden": false,
          "outputs_hidden": false
        },
        "nteract": {
          "transient": {
            "deleting": false
          }
        },
        "gather": {
          "logged": 1728133433783
        }
      }
    },
    {
      "cell_type": "markdown",
      "source": [
        "### 5.2 Embed and save taxonomy"
      ],
      "metadata": {
        "nteract": {
          "transient": {
            "deleting": false
          }
        }
      }
    },
    {
      "cell_type": "code",
      "source": [
        "for col in ['title_ext_level_4_clean',\n",
        "            'description_ext_level_4_clean', \n",
        "            'tasks_include_level_4_clean',\n",
        "            'included_occupations_level_4_clean',\n",
        "            'excluded_occupations_level_4_clean', \n",
        "            'notes_level_4_clean',\n",
        "            \n",
        "            'title_ext_level_1_clean', \n",
        "            'description_ext_level_1_clean',\n",
        "            'tasks_include_level_1_clean', \n",
        "            'included_occupations_level_1_clean',\n",
        "            'excluded_occupations_level_1_clean', \n",
        "            'notes_level_1_clean',\n",
        "\n",
        "            'title_ext_level_2_clean', \n",
        "            'description_ext_level_2_clean',\n",
        "            'tasks_include_level_2_clean',\n",
        "             'included_occupations_level_2_clean',\n",
        "            'excluded_occupations_level_2_clean',\n",
        "             'notes_level_2_clean',\n",
        "\n",
        "            'title_ext_level_3_clean', \n",
        "            'description_ext_level_3_clean',\n",
        "            'tasks_include_level_3_clean', \n",
        "            'included_occupations_level_3_clean',\n",
        "            'excluded_occupations_level_3_clean', \n",
        "            'notes_level_3_clean']:\n",
        "    embed_and_save(model=model, col=clean_labels[col].to_list(), file_name=f'labels_{col}.pickle', batch_size=12)"
      ],
      "outputs": [
        {
          "output_type": "stream",
          "name": "stderr",
          "text": "Inference Embeddings: 100%|██████████| 19/19 [00:01<00:00, 16.40it/s]\nInference Embeddings: 100%|██████████| 19/19 [00:01<00:00, 13.53it/s]\nInference Embeddings: 100%|██████████| 19/19 [00:03<00:00,  5.16it/s]\nInference Embeddings: 100%|██████████| 19/19 [00:01<00:00, 15.33it/s]\nInference Embeddings: 100%|██████████| 19/19 [00:01<00:00, 15.46it/s]\nInference Embeddings: 100%|██████████| 19/19 [00:02<00:00,  8.93it/s]\nInference Embeddings: 100%|██████████| 19/19 [00:00<00:00, 19.72it/s]\nInference Embeddings: 100%|██████████| 19/19 [00:01<00:00, 12.61it/s]\nInference Embeddings: 100%|██████████| 19/19 [00:02<00:00,  8.71it/s]\nInference Embeddings: 100%|██████████| 19/19 [00:01<00:00, 15.05it/s]\nInference Embeddings: 100%|██████████| 19/19 [00:00<00:00, 20.02it/s]\nInference Embeddings: 100%|██████████| 19/19 [00:01<00:00, 15.79it/s]\nInference Embeddings: 100%|██████████| 19/19 [00:01<00:00, 16.50it/s]\nInference Embeddings: 100%|██████████| 19/19 [00:01<00:00, 10.80it/s]\nInference Embeddings: 100%|██████████| 19/19 [00:02<00:00,  8.04it/s]\nInference Embeddings: 100%|██████████| 19/19 [00:01<00:00, 15.76it/s]\nInference Embeddings: 100%|██████████| 19/19 [00:00<00:00, 19.53it/s]\nInference Embeddings: 100%|██████████| 19/19 [00:01<00:00, 15.05it/s]\nInference Embeddings: 100%|██████████| 19/19 [00:00<00:00, 19.96it/s]\nInference Embeddings: 100%|██████████| 19/19 [00:01<00:00, 12.40it/s]\nInference Embeddings: 100%|██████████| 19/19 [00:02<00:00,  7.45it/s]\nInference Embeddings: 100%|██████████| 19/19 [00:01<00:00, 14.57it/s]\nInference Embeddings: 100%|██████████| 19/19 [00:00<00:00, 19.53it/s]\nInference Embeddings: 100%|██████████| 19/19 [00:01<00:00, 11.77it/s]\n"
        },
        {
          "output_type": "stream",
          "name": "stdout",
          "text": "Embeddings saved successfully to labels_title_ext_level_4_clean.pickle\nEmbeddings saved successfully to labels_description_ext_level_4_clean.pickle\nEmbeddings saved successfully to labels_tasks_include_level_4_clean.pickle\nEmbeddings saved successfully to labels_included_occupations_level_4_clean.pickle\nEmbeddings saved successfully to labels_excluded_occupations_level_4_clean.pickle\nEmbeddings saved successfully to labels_notes_level_4_clean.pickle\nEmbeddings saved successfully to labels_title_ext_level_1_clean.pickle\nEmbeddings saved successfully to labels_description_ext_level_1_clean.pickle\nEmbeddings saved successfully to labels_tasks_include_level_1_clean.pickle\nEmbeddings saved successfully to labels_included_occupations_level_1_clean.pickle\nEmbeddings saved successfully to labels_excluded_occupations_level_1_clean.pickle\nEmbeddings saved successfully to labels_notes_level_1_clean.pickle\nEmbeddings saved successfully to labels_title_ext_level_2_clean.pickle\nEmbeddings saved successfully to labels_description_ext_level_2_clean.pickle\nEmbeddings saved successfully to labels_tasks_include_level_2_clean.pickle\nEmbeddings saved successfully to labels_included_occupations_level_2_clean.pickle\nEmbeddings saved successfully to labels_excluded_occupations_level_2_clean.pickle\nEmbeddings saved successfully to labels_notes_level_2_clean.pickle\nEmbeddings saved successfully to labels_title_ext_level_3_clean.pickle\nEmbeddings saved successfully to labels_description_ext_level_3_clean.pickle\nEmbeddings saved successfully to labels_tasks_include_level_3_clean.pickle\nEmbeddings saved successfully to labels_included_occupations_level_3_clean.pickle\nEmbeddings saved successfully to labels_excluded_occupations_level_3_clean.pickle\nEmbeddings saved successfully to labels_notes_level_3_clean.pickle\n"
        }
      ],
      "execution_count": 10,
      "metadata": {
        "jupyter": {
          "source_hidden": false,
          "outputs_hidden": false
        },
        "nteract": {
          "transient": {
            "deleting": false
          }
        },
        "gather": {
          "logged": 1727203599520
        }
      }
    },
    {
      "cell_type": "markdown",
      "source": [
        "### 5.3 Read in job advertisments embeddings"
      ],
      "metadata": {
        "nteract": {
          "transient": {
            "deleting": false
          }
        }
      }
    },
    {
      "cell_type": "code",
      "source": [
        "with open(Paths.EMBEDDINGS_DATA_PATH/'jobs_title_clean.pickle', 'rb') as file:\n",
        "    jobs_title_loaded_array = pickle.load(file)\n",
        "with open(Paths.EMBEDDINGS_DATA_PATH/'jobs_description_clean.pickle', 'rb') as file:\n",
        "    jobs_description_loaded_array = pickle.load(file)\n",
        "\n",
        "print(\"Loaded arrays successfully.\")"
      ],
      "outputs": [
        {
          "output_type": "stream",
          "name": "stdout",
          "text": "Loaded arrays successfully.\n"
        }
      ],
      "execution_count": 17,
      "metadata": {
        "jupyter": {
          "source_hidden": false,
          "outputs_hidden": false
        },
        "nteract": {
          "transient": {
            "deleting": false
          }
        },
        "gather": {
          "logged": 1728133497377
        }
      }
    },
    {
      "cell_type": "markdown",
      "source": [
        "### 5.4 Read in taxonomy embeddings"
      ],
      "metadata": {
        "nteract": {
          "transient": {
            "deleting": false
          }
        }
      }
    },
    {
      "cell_type": "code",
      "source": [
        "with open(Paths.EMBEDDINGS_DATA_PATH / 'new_labels_title_ext_level_1_clean.pickle', 'rb') as file:\n",
        "    labels_title_ext_level_1_loaded_array = pickle.load(file)\n",
        "with open(Paths.EMBEDDINGS_DATA_PATH / 'new_labels_description_ext_level_1_clean.pickle', 'rb') as file:\n",
        "    labels_description_ext_level_1_loaded_array = pickle.load(file)\n",
        "with open(Paths.EMBEDDINGS_DATA_PATH / 'new_labels_tasks_include_level_1_clean.pickle', 'rb') as file:\n",
        "    labels_tasks_include_level_1_loaded_array = pickle.load(file)\n",
        "with open(Paths.EMBEDDINGS_DATA_PATH / 'new_labels_included_occupations_level_1_clean.pickle', 'rb') as file:\n",
        "    labels_included_occupations_level_1_loaded_array = pickle.load(file)\n",
        "with open(Paths.EMBEDDINGS_DATA_PATH / 'new_labels_excluded_occupations_level_1_clean.pickle', 'rb') as file:\n",
        "    labels_excluded_occupations_level_1_loaded_array = pickle.load(file)\n",
        "with open(Paths.EMBEDDINGS_DATA_PATH / 'new_labels_notes_level_1_clean.pickle', 'rb') as file:\n",
        "    labels_notes_level_1_loaded_array = pickle.load(file)\n",
        "\n",
        "with open(Paths.EMBEDDINGS_DATA_PATH / 'new_labels_title_ext_level_2_clean.pickle', 'rb') as file:\n",
        "    labels_title_ext_level_2_loaded_array = pickle.load(file)\n",
        "with open(Paths.EMBEDDINGS_DATA_PATH / 'new_labels_description_ext_level_2_clean.pickle', 'rb') as file:\n",
        "    labels_description_ext_level_2_loaded_array = pickle.load(file)\n",
        "with open(Paths.EMBEDDINGS_DATA_PATH / 'new_labels_tasks_include_level_2_clean.pickle', 'rb') as file:\n",
        "    labels_tasks_include_level_2_loaded_array = pickle.load(file)\n",
        "with open(Paths.EMBEDDINGS_DATA_PATH / 'new_labels_included_occupations_level_2_clean.pickle', 'rb') as file:\n",
        "    labels_included_occupations_level_2_loaded_array = pickle.load(file)\n",
        "with open(Paths.EMBEDDINGS_DATA_PATH / 'new_labels_excluded_occupations_level_2_clean.pickle', 'rb') as file:\n",
        "    labels_excluded_occupations_level_2_loaded_array = pickle.load(file)\n",
        "with open(Paths.EMBEDDINGS_DATA_PATH / 'new_labels_notes_level_2_clean.pickle', 'rb') as file:\n",
        "    labels_notes_level_2_loaded_array = pickle.load(file)\n",
        "\n",
        "with open(Paths.EMBEDDINGS_DATA_PATH / 'new_labels_title_ext_level_3_clean.pickle', 'rb') as file:\n",
        "    labels_title_ext_level_3_loaded_array = pickle.load(file)\n",
        "with open(Paths.EMBEDDINGS_DATA_PATH / 'new_labels_description_ext_level_3_clean.pickle', 'rb') as file:\n",
        "    labels_description_ext_level_3_loaded_array = pickle.load(file)\n",
        "with open(Paths.EMBEDDINGS_DATA_PATH / 'new_labels_tasks_include_level_3_clean.pickle', 'rb') as file:\n",
        "    labels_tasks_include_level_3_loaded_array = pickle.load(file)\n",
        "with open(Paths.EMBEDDINGS_DATA_PATH / 'new_labels_included_occupations_level_3_clean.pickle', 'rb') as file:\n",
        "    labels_included_occupations_level_3_loaded_array = pickle.load(file)\n",
        "with open(Paths.EMBEDDINGS_DATA_PATH / 'new_labels_excluded_occupations_level_3_clean.pickle', 'rb') as file:\n",
        "    labels_excluded_occupations_level_3_loaded_array = pickle.load(file)\n",
        "with open(Paths.EMBEDDINGS_DATA_PATH / 'new_labels_notes_level_3_clean.pickle', 'rb') as file:\n",
        "    labels_notes_level_3_loaded_array = pickle.load(file)\n",
        "\n",
        "with open(Paths.EMBEDDINGS_DATA_PATH / 'new_labels_title_ext_level_4_clean.pickle', 'rb') as file:\n",
        "    labels_title_ext_level_4_loaded_array = pickle.load(file)\n",
        "with open(Paths.EMBEDDINGS_DATA_PATH / 'new_labels_description_ext_level_4_clean.pickle', 'rb') as file:\n",
        "    labels_description_ext_level_4_loaded_array = pickle.load(file)\n",
        "with open(Paths.EMBEDDINGS_DATA_PATH / 'new_labels_tasks_include_level_4_clean.pickle', 'rb') as file:\n",
        "    labels_tasks_include_level_4_loaded_array = pickle.load(file)\n",
        "with open(Paths.EMBEDDINGS_DATA_PATH / 'new_labels_included_occupations_level_4_clean.pickle', 'rb') as file:\n",
        "    labels_included_occupations_level_4_loaded_array = pickle.load(file)\n",
        "with open(Paths.EMBEDDINGS_DATA_PATH / 'new_labels_excluded_occupations_level_4_clean.pickle', 'rb') as file:\n",
        "    labels_excluded_occupations_level_4_loaded_array = pickle.load(file)\n",
        "with open(Paths.EMBEDDINGS_DATA_PATH / 'new_labels_notes_level_4_clean.pickle', 'rb') as file:\n",
        "    labels_notes_level_4_loaded_array = pickle.load(file)\n",
        "\n",
        "print(\"Loaded arrays successfully.\")"
      ],
      "outputs": [
        {
          "output_type": "stream",
          "name": "stdout",
          "text": "Loaded arrays successfully.\n"
        }
      ],
      "execution_count": 18,
      "metadata": {
        "jupyter": {
          "source_hidden": false,
          "outputs_hidden": false
        },
        "nteract": {
          "transient": {
            "deleting": false
          }
        },
        "gather": {
          "logged": 1728133499850
        }
      }
    },
    {
      "cell_type": "markdown",
      "source": [
        "### 5.5 Combine job advertisments embeddings (weighted sum)"
      ],
      "metadata": {
        "nteract": {
          "transient": {
            "deleting": false
          }
        }
      }
    },
    {
      "cell_type": "code",
      "source": [
        "# Define weights\n",
        "W_JOBS_TITLE = 0.3\n",
        "W_JOBS_DESCRIPTION = 0.7"
      ],
      "outputs": [],
      "execution_count": 19,
      "metadata": {
        "jupyter": {
          "source_hidden": false,
          "outputs_hidden": false
        },
        "nteract": {
          "transient": {
            "deleting": false
          }
        },
        "gather": {
          "logged": 1728133505190
        }
      }
    },
    {
      "cell_type": "code",
      "source": [
        "# Combine job advertisments embeddings\n",
        "jobs_combined_embeddings = jobs_title_loaded_array * W_JOBS_TITLE + jobs_description_loaded_array * W_JOBS_DESCRIPTION"
      ],
      "outputs": [],
      "execution_count": 20,
      "metadata": {
        "jupyter": {
          "source_hidden": false,
          "outputs_hidden": false
        },
        "nteract": {
          "transient": {
            "deleting": false
          }
        },
        "gather": {
          "logged": 1728133505613
        }
      }
    },
    {
      "cell_type": "markdown",
      "source": [
        "### 5.6 Combine taxonomy embeddings (weighted sum)"
      ],
      "metadata": {
        "nteract": {
          "transient": {
            "deleting": false
          }
        }
      }
    },
    {
      "cell_type": "code",
      "source": [
        "# Define weights\n",
        "W_LABELS_TITLE = 0.3\n",
        "W_LABELS_DESCRIPTION = 0.7\n",
        "W_TASKS_INCLUDE = 0.5\n",
        "W_INCLUDED_OCCUPATIONS = 0.6"
      ],
      "outputs": [],
      "execution_count": 21,
      "metadata": {
        "jupyter": {
          "source_hidden": false,
          "outputs_hidden": false
        },
        "nteract": {
          "transient": {
            "deleting": false
          }
        },
        "gather": {
          "logged": 1728133506448
        }
      }
    },
    {
      "cell_type": "code",
      "source": [
        "# Combine taxonomy embeddings for each level\n",
        "labels_level_1_combined = (labels_title_ext_level_1_loaded_array * W_LABELS_TITLE + \n",
        "                           labels_description_ext_level_1_loaded_array * W_LABELS_DESCRIPTION + \n",
        "                           labels_tasks_include_level_1_loaded_array * W_TASKS_INCLUDE + \n",
        "                           labels_included_occupations_level_1_loaded_array * W_INCLUDED_OCCUPATIONS)\n",
        "\n",
        "labels_level_2_combined = (labels_title_ext_level_2_loaded_array * W_LABELS_TITLE + \n",
        "                           labels_description_ext_level_2_loaded_array * W_LABELS_DESCRIPTION + \n",
        "                           labels_tasks_include_level_2_loaded_array * W_TASKS_INCLUDE + \n",
        "                           labels_included_occupations_level_2_loaded_array * W_INCLUDED_OCCUPATIONS)\n",
        "\n",
        "labels_level_3_combined = (labels_title_ext_level_3_loaded_array * W_LABELS_TITLE + \n",
        "                           labels_description_ext_level_3_loaded_array * W_LABELS_DESCRIPTION + \n",
        "                           labels_tasks_include_level_3_loaded_array * W_TASKS_INCLUDE + \n",
        "                           labels_included_occupations_level_3_loaded_array * W_INCLUDED_OCCUPATIONS)\n",
        "\n",
        "labels_level_4_combined = (labels_title_ext_level_4_loaded_array * W_LABELS_TITLE + \n",
        "                           labels_description_ext_level_4_loaded_array * W_LABELS_DESCRIPTION + \n",
        "                           labels_tasks_include_level_4_loaded_array * W_TASKS_INCLUDE + \n",
        "                           labels_included_occupations_level_4_loaded_array * W_INCLUDED_OCCUPATIONS)"
      ],
      "outputs": [],
      "execution_count": 22,
      "metadata": {
        "jupyter": {
          "source_hidden": false,
          "outputs_hidden": false
        },
        "nteract": {
          "transient": {
            "deleting": false
          }
        },
        "gather": {
          "logged": 1728133507232
        }
      }
    },
    {
      "cell_type": "code",
      "source": [
        "# Define weights\n",
        "W_LEVEL_1 = 0.2\n",
        "W_LEVEL_2 = 0.4\n",
        "W_LEVEL_3 = 0.5\n",
        "W_LEVEL_4 = 0.7"
      ],
      "outputs": [],
      "execution_count": 23,
      "metadata": {
        "jupyter": {
          "source_hidden": false,
          "outputs_hidden": false
        },
        "nteract": {
          "transient": {
            "deleting": false
          }
        },
        "gather": {
          "logged": 1728133507879
        }
      }
    },
    {
      "cell_type": "code",
      "source": [
        "# Combine taxonomy embeddings from all levels\n",
        "labels_combined_embeddings = (labels_level_1_combined * W_LEVEL_1 + \n",
        "                              labels_level_2_combined * W_LEVEL_2 + \n",
        "                              labels_level_3_combined * W_LEVEL_3 + \n",
        "                              labels_level_4_combined * W_LEVEL_4)"
      ],
      "outputs": [],
      "execution_count": 24,
      "metadata": {
        "jupyter": {
          "source_hidden": false,
          "outputs_hidden": false
        },
        "nteract": {
          "transient": {
            "deleting": false
          }
        },
        "gather": {
          "logged": 1728133509056
        }
      }
    },
    {
      "cell_type": "markdown",
      "source": [
        "### 5.7 Compute similarity matrix"
      ],
      "metadata": {
        "nteract": {
          "transient": {
            "deleting": false
          }
        }
      }
    },
    {
      "cell_type": "code",
      "source": [
        "# Compute similarity matrix\n",
        "similarity_matrix = compute_cosine_similarity_matrix(jobs_combined_embeddings, labels_combined_embeddings)"
      ],
      "outputs": [
        {
          "output_type": "stream",
          "name": "stderr",
          "text": "100%|██████████| 25665/25665 [00:17<00:00, 1477.11it/s]\n"
        }
      ],
      "execution_count": 25,
      "metadata": {
        "jupyter": {
          "source_hidden": false,
          "outputs_hidden": false
        },
        "nteract": {
          "transient": {
            "deleting": false
          }
        },
        "gather": {
          "logged": 1728133528229
        }
      }
    },
    {
      "cell_type": "code",
      "source": [
        "# Save/load similarity matrix\n",
        "try:\n",
        "    with open(Paths.EMBEDDINGS_DATA_PATH / \"20240908_cosine_similarity_matrix.pickle\", 'rb') as file:\n",
        "        similarity_matrix = pickle.load(file)\n",
        "except FileNotFoundError:\n",
        "    with open(Paths.EMBEDDINGS_DATA_PATH / \"20240908_cosine_similarity_matrix.pickle\", 'wb') as file:\n",
        "        pickle.dump(similarity_matrix, file)   \n",
        "\n",
        "similarity_matrix.shape   "
      ],
      "outputs": [
        {
          "output_type": "execute_result",
          "execution_count": 26,
          "data": {
            "text/plain": "(25665, 436)"
          },
          "metadata": {}
        }
      ],
      "execution_count": 26,
      "metadata": {
        "jupyter": {
          "source_hidden": false,
          "outputs_hidden": false
        },
        "nteract": {
          "transient": {
            "deleting": false
          }
        },
        "gather": {
          "logged": 1728133534537
        }
      }
    },
    {
      "cell_type": "code",
      "source": [
        "# Display similarity matrix\n",
        "print('Cosine Similarity Matrix:')\n",
        "print(similarity_matrix)"
      ],
      "outputs": [
        {
          "output_type": "stream",
          "name": "stdout",
          "text": "Cosine Similarity Matrix:\n[[0.40700588 0.40720373 0.4257651  ... 0.43917805 0.42881268 0.44897842]\n [0.45322189 0.45646986 0.46308506 ... 0.46275198 0.46732673 0.46225119]\n [0.51667559 0.53172606 0.5114944  ... 0.5165031  0.51709956 0.50938016]\n ...\n [0.4698028  0.47480735 0.46264511 ... 0.47781923 0.46807685 0.47094226]\n [0.51592249 0.51686627 0.517003   ... 0.54002804 0.5154258  0.52677864]\n [0.52311349 0.53645653 0.52705765 ... 0.48384291 0.44300619 0.44147113]]\n"
        }
      ],
      "execution_count": 27,
      "metadata": {
        "jupyter": {
          "source_hidden": false,
          "outputs_hidden": false
        },
        "nteract": {
          "transient": {
            "deleting": false
          }
        },
        "gather": {
          "logged": 1728133537627
        }
      }
    },
    {
      "cell_type": "markdown",
      "source": [
        "### 5.8 Get k nearest neighbours (knn)"
      ],
      "metadata": {
        "nteract": {
          "transient": {
            "deleting": false
          }
        }
      }
    },
    {
      "cell_type": "code",
      "source": [
        "# Define k\n",
        "K=5"
      ],
      "outputs": [],
      "execution_count": 28,
      "metadata": {
        "jupyter": {
          "source_hidden": false,
          "outputs_hidden": false
        },
        "nteract": {
          "transient": {
            "deleting": false
          }
        },
        "gather": {
          "logged": 1728133540281
        }
      }
    },
    {
      "cell_type": "code",
      "source": [
        "# Retrieve k nearest neighbours for each job\n",
        "knn_5_indices = get_knn(similarity_matrix=similarity_matrix, k=K)"
      ],
      "outputs": [
        {
          "output_type": "stream",
          "name": "stderr",
          "text": "100%|██████████| 25665/25665 [00:00<00:00, 49617.09it/s]\n"
        }
      ],
      "execution_count": 29,
      "metadata": {
        "jupyter": {
          "source_hidden": false,
          "outputs_hidden": false
        },
        "nteract": {
          "transient": {
            "deleting": false
          }
        },
        "gather": {
          "logged": 1728133541811
        }
      }
    },
    {
      "cell_type": "code",
      "source": [
        "# Display k elements\n",
        "print(\"Indices of the k largest elements in each row:\")\n",
        "print(knn_5_indices)"
      ],
      "outputs": [
        {
          "output_type": "stream",
          "name": "stdout",
          "text": "Indices of the k largest elements in each row:\n[[308 307 301 302 130]\n [ 72  71  73  76  75]\n [164  56  55 162  60]\n ...\n [ 95  54  94  96  51]\n [298 300 305 304 301]\n [ 11   9  17  10  14]]\n"
        }
      ],
      "execution_count": 30,
      "metadata": {
        "jupyter": {
          "source_hidden": false,
          "outputs_hidden": false
        },
        "nteract": {
          "transient": {
            "deleting": false
          }
        },
        "gather": {
          "logged": 1728133543183
        }
      }
    },
    {
      "cell_type": "markdown",
      "source": [
        "## 6. Perform RAG using text-generation model"
      ],
      "metadata": {
        "nteract": {
          "transient": {
            "deleting": false
          }
        }
      }
    },
    {
      "cell_type": "markdown",
      "source": [
        "### 6.1 Build prompts"
      ],
      "metadata": {
        "nteract": {
          "transient": {
            "deleting": false
          }
        }
      }
    },
    {
      "cell_type": "code",
      "source": [
        "# Define system template\n",
        "SYSTEM_TEMPLATE = (\"You will receive a job title and a job description (which may be in any language). \"\n",
        "                   \"Your task is to classify the job advertisment into the appropriate four-digit code from the given CONTEXT. \"\n",
        "                   \"Use the following CONTEXT to determine the correct classification:\\n{}\\n\\n\"\n",
        "                   \"Your output must be only the four-digit classification ID, and no additional text or explanations.\\n\"\n",
        "                   \"Available classes are: {}\")\n",
        "\n",
        "# Define user template\n",
        "USER_TEMPLATE = (\"Below is a job advertisement. \"\n",
        "                 \"Your task is to classify it using one of the provided four-digit classification IDs. \"\n",
        "                 \"Provide only the correct four-digit ID in response.\\n\\n\"\n",
        "                 \"JOB TITLE: {}\\n\"\n",
        "                 \"JOB DESCRIPTION: {}\\n\")"
      ],
      "outputs": [],
      "execution_count": 31,
      "metadata": {
        "jupyter": {
          "source_hidden": false,
          "outputs_hidden": false
        },
        "nteract": {
          "transient": {
            "deleting": false
          }
        },
        "gather": {
          "logged": 1728133546173
        }
      }
    },
    {
      "cell_type": "code",
      "source": [
        "# Convert the knn indices to codes\n",
        "knn_5_codes = convert_knn_indices_to_codes(clean_jobs=clean_jobs, \n",
        "                                           clean_labels=clean_labels,\n",
        "                                           knn_indices=knn_5_indices)"
      ],
      "outputs": [],
      "execution_count": 32,
      "metadata": {
        "jupyter": {
          "source_hidden": false,
          "outputs_hidden": false
        },
        "nteract": {
          "transient": {
            "deleting": false
          }
        },
        "gather": {
          "logged": 1728133549012
        }
      }
    },
    {
      "cell_type": "code",
      "source": [
        "# Generate all prompts\n",
        "prompts = generate_prompts(clean_jobs, clean_labels, knn_5_codes, SYSTEM_TEMPLATE, USER_TEMPLATE)"
      ],
      "outputs": [
        {
          "output_type": "stream",
          "name": "stderr",
          "text": "Generating prompts: 100%|██████████| 25665/25665 [03:08<00:00, 136.19it/s]\n"
        }
      ],
      "execution_count": 35,
      "metadata": {
        "jupyter": {
          "source_hidden": false,
          "outputs_hidden": false
        },
        "nteract": {
          "transient": {
            "deleting": false
          }
        },
        "gather": {
          "logged": 1728133976425
        }
      }
    },
    {
      "cell_type": "code",
      "source": [
        "# Store/load prompts\n",
        "try:\n",
        "    with open(Path(Paths.INTERIM_DATA_PATH) / 'prompts.pkl', 'rb') as file:\n",
        "        prompts = pickle.load(file)\n",
        "    print(\"Prompts loaded from file.\")\n",
        "except FileNotFoundError:\n",
        "    with open(Path(Paths.INTERIM_DATA_PATH) / 'prompts.pkl', 'wb') as file:\n",
        "        pickle.dump(prompts, file)\n",
        "    print(\"Prompts saved to file.\")"
      ],
      "outputs": [
        {
          "output_type": "stream",
          "name": "stdout",
          "text": "Prompts loaded from file.\n"
        }
      ],
      "execution_count": 37,
      "metadata": {
        "jupyter": {
          "source_hidden": false,
          "outputs_hidden": false
        },
        "nteract": {
          "transient": {
            "deleting": false
          }
        },
        "gather": {
          "logged": 1728133997177
        }
      }
    },
    {
      "cell_type": "markdown",
      "source": [
        "### 6.2 Run inference with LLM"
      ],
      "metadata": {
        "nteract": {
          "transient": {
            "deleting": false
          }
        }
      }
    },
    {
      "cell_type": "code",
      "source": [
        "# Log in HF\n",
        "login(os.environ[\"HF_TOKEN\"])"
      ],
      "outputs": [
        {
          "output_type": "stream",
          "name": "stdout",
          "text": "The token has not been saved to the git credentials helper. Pass `add_to_git_credential=True` in this function directly or `--add-to-git-credential` if using via `huggingface-cli` if you want to set the git credential as well.\nToken is valid (permission: fineGrained).\nYour token has been saved to /home/azureuser/.cache/huggingface/token\nLogin successful\n"
        }
      ],
      "execution_count": 38,
      "metadata": {
        "jupyter": {
          "source_hidden": false,
          "outputs_hidden": false
        },
        "nteract": {
          "transient": {
            "deleting": false
          }
        },
        "gather": {
          "logged": 1728134001146
        }
      }
    },
    {
      "cell_type": "code",
      "source": [
        "# Define LLM for text-generation\n",
        "model_id = \"meta-llama/Meta-Llama-3.1-8B-Instruct\""
      ],
      "outputs": [],
      "execution_count": 39,
      "metadata": {
        "jupyter": {
          "source_hidden": false,
          "outputs_hidden": false
        },
        "nteract": {
          "transient": {
            "deleting": false
          }
        },
        "gather": {
          "logged": 1728134016619
        }
      }
    },
    {
      "cell_type": "code",
      "source": [
        "# Define pipeline\n",
        "pipe = pipeline(\n",
        "    \"text-generation\",\n",
        "    model=model_id,\n",
        "    model_kwargs={\"torch_dtype\": torch.bfloat16},\n",
        "    device=\"cuda\",\n",
        ")"
      ],
      "outputs": [
        {
          "output_type": "display_data",
          "data": {
            "text/plain": "model.safetensors.index.json:   0%|          | 0.00/23.9k [00:00<?, ?B/s]",
            "application/vnd.jupyter.widget-view+json": {
              "version_major": 2,
              "version_minor": 0,
              "model_id": "147754dd87f04f4390a07ac46983e80e"
            }
          },
          "metadata": {}
        },
        {
          "output_type": "display_data",
          "data": {
            "text/plain": "Downloading shards:   0%|          | 0/4 [00:00<?, ?it/s]",
            "application/vnd.jupyter.widget-view+json": {
              "version_major": 2,
              "version_minor": 0,
              "model_id": "7e0c754ea2dc480597ee05b5181cfcd4"
            }
          },
          "metadata": {}
        },
        {
          "output_type": "display_data",
          "data": {
            "text/plain": "model-00001-of-00004.safetensors:   0%|          | 0.00/4.98G [00:00<?, ?B/s]",
            "application/vnd.jupyter.widget-view+json": {
              "version_major": 2,
              "version_minor": 0,
              "model_id": "efa82d24281c496086a1a9c5c4638f22"
            }
          },
          "metadata": {}
        },
        {
          "output_type": "display_data",
          "data": {
            "text/plain": "model-00002-of-00004.safetensors:   0%|          | 0.00/5.00G [00:00<?, ?B/s]",
            "application/vnd.jupyter.widget-view+json": {
              "version_major": 2,
              "version_minor": 0,
              "model_id": "87cae9c36568477ab7603f9a9d4f2322"
            }
          },
          "metadata": {}
        },
        {
          "output_type": "display_data",
          "data": {
            "text/plain": "model-00003-of-00004.safetensors:   0%|          | 0.00/4.92G [00:00<?, ?B/s]",
            "application/vnd.jupyter.widget-view+json": {
              "version_major": 2,
              "version_minor": 0,
              "model_id": "f6bec44377a14f1da6d63d6e10f9f77b"
            }
          },
          "metadata": {}
        },
        {
          "output_type": "display_data",
          "data": {
            "text/plain": "model-00004-of-00004.safetensors:   0%|          | 0.00/1.17G [00:00<?, ?B/s]",
            "application/vnd.jupyter.widget-view+json": {
              "version_major": 2,
              "version_minor": 0,
              "model_id": "5e28b3f77da84b8b84f29bcf3c39d2a1"
            }
          },
          "metadata": {}
        },
        {
          "output_type": "display_data",
          "data": {
            "text/plain": "Loading checkpoint shards:   0%|          | 0/4 [00:00<?, ?it/s]",
            "application/vnd.jupyter.widget-view+json": {
              "version_major": 2,
              "version_minor": 0,
              "model_id": "0032e80d1dee4517aad1ad625dab868c"
            }
          },
          "metadata": {}
        },
        {
          "output_type": "display_data",
          "data": {
            "text/plain": "generation_config.json:   0%|          | 0.00/184 [00:00<?, ?B/s]",
            "application/vnd.jupyter.widget-view+json": {
              "version_major": 2,
              "version_minor": 0,
              "model_id": "efb6de08da834e4192e9acfcabb43dc8"
            }
          },
          "metadata": {}
        },
        {
          "output_type": "display_data",
          "data": {
            "text/plain": "tokenizer_config.json:   0%|          | 0.00/55.4k [00:00<?, ?B/s]",
            "application/vnd.jupyter.widget-view+json": {
              "version_major": 2,
              "version_minor": 0,
              "model_id": "91c486961d1e40019f43d0674cf776ef"
            }
          },
          "metadata": {}
        },
        {
          "output_type": "display_data",
          "data": {
            "text/plain": "tokenizer.json:   0%|          | 0.00/9.09M [00:00<?, ?B/s]",
            "application/vnd.jupyter.widget-view+json": {
              "version_major": 2,
              "version_minor": 0,
              "model_id": "d858345686574c9da99b731d03413fcb"
            }
          },
          "metadata": {}
        },
        {
          "output_type": "display_data",
          "data": {
            "text/plain": "special_tokens_map.json:   0%|          | 0.00/296 [00:00<?, ?B/s]",
            "application/vnd.jupyter.widget-view+json": {
              "version_major": 2,
              "version_minor": 0,
              "model_id": "52cac46a4b474a99a3e6e6aa39c7d23a"
            }
          },
          "metadata": {}
        }
      ],
      "execution_count": 4,
      "metadata": {
        "jupyter": {
          "source_hidden": false,
          "outputs_hidden": false
        },
        "nteract": {
          "transient": {
            "deleting": false
          }
        },
        "gather": {
          "logged": 1728133244485
        }
      }
    },
    {
      "cell_type": "code",
      "source": [
        "# Define terminators\n",
        "terminators = [\n",
        "    pipe.tokenizer.eos_token_id,\n",
        "    pipe.tokenizer.convert_tokens_to_ids(\"<|eot_id|>\")\n",
        "]"
      ],
      "outputs": [],
      "execution_count": 41,
      "metadata": {
        "jupyter": {
          "source_hidden": false,
          "outputs_hidden": false
        },
        "nteract": {
          "transient": {
            "deleting": false
          }
        },
        "gather": {
          "logged": 1728134038565
        }
      }
    },
    {
      "cell_type": "code",
      "source": [
        "# Define prompt parameters\n",
        "TEMPERATURE = 0.6\n",
        "TOP_P = 9"
      ],
      "outputs": [],
      "execution_count": 59,
      "metadata": {
        "jupyter": {
          "source_hidden": false,
          "outputs_hidden": false
        },
        "nteract": {
          "transient": {
            "deleting": false
          }
        },
        "gather": {
          "logged": 1728134716088
        }
      }
    },
    {
      "cell_type": "code",
      "source": [
        "# Create empty dict to store outputs\n",
        "outputs = {}"
      ],
      "outputs": [],
      "execution_count": 60,
      "metadata": {
        "jupyter": {
          "source_hidden": false,
          "outputs_hidden": false
        },
        "nteract": {
          "transient": {
            "deleting": false
          }
        },
        "gather": {
          "logged": 1728134724508
        }
      }
    },
    {
      "cell_type": "code",
      "source": [
        "# Run inference with LLM for each job advertisment\n",
        "for id, prompt in prompts.items():\n",
        "    try:\n",
        "\n",
        "        messages = [\n",
        "            {\"role\": \"system\",\"content\":prompt[0]},\n",
        "            {\"role\": \"user\", \"content\": prompt[1]}\n",
        "        ]\n",
        "\n",
        "        output = pipe(\n",
        "            text_inputs=messages,\n",
        "            max_new_tokens=256,\n",
        "            eos_token_id=terminators,\n",
        "            do_sample=True,\n",
        "            temperature=TEMPERATURE,\n",
        "            top_p=TOP_P,\n",
        "            )\n",
        "        assistant_response = output[0][\"generated_text\"][-1][\"content\"]\n",
        "        outputs[id] = assistant_response\n",
        "    except Exception as e:\n",
        "        print(e)\n",
        "        outputs[id] = \"error\""
      ],
      "outputs": [
        {
          "output_type": "stream",
          "name": "stderr",
          "text": "Setting `pad_token_id` to `eos_token_id`:None for open-end generation.\nSetting `pad_token_id` to `eos_token_id`:None for open-end generation.\nSetting `pad_token_id` to `eos_token_id`:None for open-end generation.\nSetting `pad_token_id` to `eos_token_id`:None for open-end generation.\nSetting `pad_token_id` to `eos_token_id`:None for open-end generation.\n"
        }
      ],
      "execution_count": 66,
      "metadata": {
        "jupyter": {
          "source_hidden": false,
          "outputs_hidden": false
        },
        "nteract": {
          "transient": {
            "deleting": false
          }
        },
        "gather": {
          "logged": 1728134910316
        }
      }
    },
    {
      "cell_type": "markdown",
      "source": [
        "## 7. Post-processing"
      ],
      "metadata": {
        "nteract": {
          "transient": {
            "deleting": false
          }
        }
      }
    },
    {
      "cell_type": "markdown",
      "source": [
        "### 7.1 Postprocess LLM outputs"
      ],
      "metadata": {
        "nteract": {
          "transient": {
            "deleting": false
          }
        }
      }
    },
    {
      "cell_type": "code",
      "source": [
        "# Extract 4 digit string from the outputs\n",
        "clean_outputs = {k: extract_first_4_digit_string(v) for k, v in outputs.items()}"
      ],
      "outputs": [],
      "execution_count": 75,
      "metadata": {
        "jupyter": {
          "source_hidden": false,
          "outputs_hidden": false
        },
        "nteract": {
          "transient": {
            "deleting": false
          }
        },
        "gather": {
          "logged": 1728135410541
        }
      }
    },
    {
      "cell_type": "code",
      "source": [
        "# Get a list with all the valid taxonomy codes\n",
        "valid_codes = taxonomy[taxonomy.level==4].code.to_list()"
      ],
      "outputs": [],
      "execution_count": 87,
      "metadata": {
        "jupyter": {
          "source_hidden": false,
          "outputs_hidden": false
        },
        "nteract": {
          "transient": {
            "deleting": false
          }
        },
        "gather": {
          "logged": 1728135808070
        }
      }
    },
    {
      "cell_type": "code",
      "source": [
        "# Replace errors and non valid codes with knn=1 result\n",
        "for id, code in clean_outputs.items():\n",
        "    if code == 'error' or code not in valid_codes:\n",
        "        clean_outputs[id] = knn_5_codes[id][0]"
      ],
      "outputs": [],
      "execution_count": 89,
      "metadata": {
        "jupyter": {
          "source_hidden": false,
          "outputs_hidden": false
        },
        "nteract": {
          "transient": {
            "deleting": false
          }
        },
        "gather": {
          "logged": 1728135836390
        }
      }
    },
    {
      "cell_type": "markdown",
      "source": [
        "### 7.2 Prepare submission"
      ],
      "metadata": {
        "nteract": {
          "transient": {
            "deleting": false
          }
        }
      }
    },
    {
      "cell_type": "code",
      "source": [
        "# Convert dict to pandas DataFrame\n",
        "final_outputs = pd.DataFrame(clean_outputs.items(), columns=['id', 'code'])"
      ],
      "outputs": [],
      "execution_count": 97,
      "metadata": {
        "jupyter": {
          "source_hidden": false,
          "outputs_hidden": false
        },
        "nteract": {
          "transient": {
            "deleting": false
          }
        },
        "gather": {
          "logged": 1728136130742
        }
      }
    },
    {
      "cell_type": "code",
      "source": [
        "# Export submission\n",
        "final_outputs.to_csv(Paths.SUBMISSION_DATA_PATH / \"classification.csv\", index = False, header=None)"
      ],
      "outputs": [],
      "execution_count": 100,
      "metadata": {
        "jupyter": {
          "source_hidden": false,
          "outputs_hidden": false
        },
        "nteract": {
          "transient": {
            "deleting": false
          }
        },
        "gather": {
          "logged": 1728136236212
        }
      }
    }
  ],
  "metadata": {
    "kernelspec": {
      "name": "python310-sdkv2",
      "language": "python",
      "display_name": "Python 3.10 - SDK v2"
    },
    "language_info": {
      "name": "python",
      "version": "3.10.14",
      "mimetype": "text/x-python",
      "codemirror_mode": {
        "name": "ipython",
        "version": 3
      },
      "pygments_lexer": "ipython3",
      "nbconvert_exporter": "python",
      "file_extension": ".py"
    },
    "microsoft": {
      "ms_spell_check": {
        "ms_spell_check_language": "en"
      },
      "host": {
        "AzureML": {
          "notebookHasBeenCompleted": true
        }
      }
    },
    "kernel_info": {
      "name": "python310-sdkv2"
    },
    "nteract": {
      "version": "nteract-front-end@1.0.0"
    }
  },
  "nbformat": 4,
  "nbformat_minor": 2
}